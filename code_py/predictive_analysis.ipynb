{
 "cells": [
  {
   "cell_type": "code",
   "execution_count": 22,
   "metadata": {},
   "outputs": [],
   "source": [
    "import pandas as pd\n",
    "import numpy as np\n",
    "import regex as re\n",
    "\n",
    "import time\n",
    "\n",
    "import os\n",
    "\n",
    "import seaborn as sns\n",
    "import matplotlib.pyplot as plt\n",
    "\n",
    "pd.set_option('display.max_rows', 9)"
   ]
  },
  {
   "cell_type": "code",
   "execution_count": 23,
   "metadata": {},
   "outputs": [
    {
     "name": "stderr",
     "output_type": "stream",
     "text": [
      "C:\\Users\\Chaconne\\AppData\\Local\\Temp\\ipykernel_2492\\1335616153.py:3: DtypeWarning: Columns (22,23,24,302,304) have mixed types. Specify dtype option on import or set low_memory=False.\n",
      "  df_data_main = pd.read_csv(\n",
      "C:\\Users\\Chaconne\\AppData\\Local\\Temp\\ipykernel_2492\\1335616153.py:8: DtypeWarning: Columns (0,73,81,84,86,91,115,116,128,129,130,133,134,135,136,137,142,143,144,158,160) have mixed types. Specify dtype option on import or set low_memory=False.\n",
      "  df_data_inj = pd.read_csv(dir + '/source/dotperson2018.csv')\n",
      "C:\\Users\\Chaconne\\AppData\\Local\\Temp\\ipykernel_2492\\1335616153.py:11: DtypeWarning: Columns (0,56,73,81,84,86,91,115,116,128,129,130,136,137,142,143,144,158,160) have mixed types. Specify dtype option on import or set low_memory=False.\n",
      "  pd.read_csv(dir + '/source/dotperson' +str( i) + r'.csv')\n",
      "C:\\Users\\Chaconne\\AppData\\Local\\Temp\\ipykernel_2492\\1335616153.py:10: FutureWarning: The frame.append method is deprecated and will be removed from pandas in a future version. Use pandas.concat instead.\n",
      "  df_data_inj.append(\n",
      "C:\\Users\\Chaconne\\AppData\\Local\\Temp\\ipykernel_2492\\1335616153.py:11: DtypeWarning: Columns (0,57,91,158,160) have mixed types. Specify dtype option on import or set low_memory=False.\n",
      "  pd.read_csv(dir + '/source/dotperson' +str( i) + r'.csv')\n",
      "C:\\Users\\Chaconne\\AppData\\Local\\Temp\\ipykernel_2492\\1335616153.py:10: FutureWarning: The frame.append method is deprecated and will be removed from pandas in a future version. Use pandas.concat instead.\n",
      "  df_data_inj.append(\n",
      "C:\\Users\\Chaconne\\AppData\\Local\\Temp\\ipykernel_2492\\1335616153.py:11: DtypeWarning: Columns (0,41,56,81,91,158,160) have mixed types. Specify dtype option on import or set low_memory=False.\n",
      "  pd.read_csv(dir + '/source/dotperson' +str( i) + r'.csv')\n",
      "C:\\Users\\Chaconne\\AppData\\Local\\Temp\\ipykernel_2492\\1335616153.py:10: FutureWarning: The frame.append method is deprecated and will be removed from pandas in a future version. Use pandas.concat instead.\n",
      "  df_data_inj.append(\n"
     ]
    },
    {
     "name": "stdout",
     "output_type": "stream",
     "text": [
      "(96846, 281)\n"
     ]
    },
    {
     "data": {
      "text/html": [
       "<div>\n",
       "<style scoped>\n",
       "    .dataframe tbody tr th:only-of-type {\n",
       "        vertical-align: middle;\n",
       "    }\n",
       "\n",
       "    .dataframe tbody tr th {\n",
       "        vertical-align: top;\n",
       "    }\n",
       "\n",
       "    .dataframe thead th {\n",
       "        text-align: right;\n",
       "    }\n",
       "</style>\n",
       "<table border=\"1\" class=\"dataframe\">\n",
       "  <thead>\n",
       "    <tr style=\"text-align: right;\">\n",
       "      <th></th>\n",
       "      <th>collirptnum</th>\n",
       "      <th>StateRep</th>\n",
       "      <th>Intentnl</th>\n",
       "      <th>Legal_int</th>\n",
       "      <th>MedCause</th>\n",
       "      <th>legdis_num</th>\n",
       "      <th>fed_co</th>\n",
       "      <th>county</th>\n",
       "      <th>city</th>\n",
       "      <th>RTPO_name</th>\n",
       "      <th>...</th>\n",
       "      <th>dr_dist</th>\n",
       "      <th>dr_spd</th>\n",
       "      <th>dr_fty</th>\n",
       "      <th>nm_alc</th>\n",
       "      <th>nm_drug</th>\n",
       "      <th>nm_alcdrug</th>\n",
       "      <th>nm_dist</th>\n",
       "      <th>nm_fty</th>\n",
       "      <th>nm_imp</th>\n",
       "      <th>DR_ZIP</th>\n",
       "    </tr>\n",
       "  </thead>\n",
       "  <tbody>\n",
       "    <tr>\n",
       "      <th>0</th>\n",
       "      <td>1292003</td>\n",
       "      <td>Yes</td>\n",
       "      <td>No</td>\n",
       "      <td>No</td>\n",
       "      <td>No</td>\n",
       "      <td>20</td>\n",
       "      <td>41</td>\n",
       "      <td>Lewis</td>\n",
       "      <td>Winlock</td>\n",
       "      <td>Southwest Washington RTPO</td>\n",
       "      <td>...</td>\n",
       "      <td>1</td>\n",
       "      <td>0</td>\n",
       "      <td>0</td>\n",
       "      <td>0</td>\n",
       "      <td>0</td>\n",
       "      <td>0</td>\n",
       "      <td>0</td>\n",
       "      <td>0</td>\n",
       "      <td>0</td>\n",
       "      <td>NaN</td>\n",
       "    </tr>\n",
       "    <tr>\n",
       "      <th>1</th>\n",
       "      <td>1292003</td>\n",
       "      <td>Yes</td>\n",
       "      <td>No</td>\n",
       "      <td>No</td>\n",
       "      <td>No</td>\n",
       "      <td>20</td>\n",
       "      <td>41</td>\n",
       "      <td>Lewis</td>\n",
       "      <td>Winlock</td>\n",
       "      <td>Southwest Washington RTPO</td>\n",
       "      <td>...</td>\n",
       "      <td>1</td>\n",
       "      <td>0</td>\n",
       "      <td>0</td>\n",
       "      <td>0</td>\n",
       "      <td>0</td>\n",
       "      <td>0</td>\n",
       "      <td>0</td>\n",
       "      <td>0</td>\n",
       "      <td>0</td>\n",
       "      <td>NaN</td>\n",
       "    </tr>\n",
       "    <tr>\n",
       "      <th>2</th>\n",
       "      <td>1313780</td>\n",
       "      <td>Yes</td>\n",
       "      <td>No</td>\n",
       "      <td>No</td>\n",
       "      <td>No</td>\n",
       "      <td>37</td>\n",
       "      <td>33</td>\n",
       "      <td>King</td>\n",
       "      <td>Seattle</td>\n",
       "      <td>Puget Sound Regional Council</td>\n",
       "      <td>...</td>\n",
       "      <td>0</td>\n",
       "      <td>0</td>\n",
       "      <td>1</td>\n",
       "      <td>0</td>\n",
       "      <td>0</td>\n",
       "      <td>0</td>\n",
       "      <td>0</td>\n",
       "      <td>0</td>\n",
       "      <td>0</td>\n",
       "      <td>NaN</td>\n",
       "    </tr>\n",
       "    <tr>\n",
       "      <th>3</th>\n",
       "      <td>1313780</td>\n",
       "      <td>Yes</td>\n",
       "      <td>No</td>\n",
       "      <td>No</td>\n",
       "      <td>No</td>\n",
       "      <td>37</td>\n",
       "      <td>33</td>\n",
       "      <td>King</td>\n",
       "      <td>Seattle</td>\n",
       "      <td>Puget Sound Regional Council</td>\n",
       "      <td>...</td>\n",
       "      <td>0</td>\n",
       "      <td>0</td>\n",
       "      <td>0</td>\n",
       "      <td>0</td>\n",
       "      <td>0</td>\n",
       "      <td>0</td>\n",
       "      <td>0</td>\n",
       "      <td>0</td>\n",
       "      <td>0</td>\n",
       "      <td>NaN</td>\n",
       "    </tr>\n",
       "    <tr>\n",
       "      <th>4</th>\n",
       "      <td>2336290</td>\n",
       "      <td>Yes</td>\n",
       "      <td>No</td>\n",
       "      <td>No</td>\n",
       "      <td>No</td>\n",
       "      <td>35</td>\n",
       "      <td>67</td>\n",
       "      <td>Thurston</td>\n",
       "      <td>NaN</td>\n",
       "      <td>Thurston Regional Planning Council</td>\n",
       "      <td>...</td>\n",
       "      <td>1</td>\n",
       "      <td>0</td>\n",
       "      <td>0</td>\n",
       "      <td>0</td>\n",
       "      <td>0</td>\n",
       "      <td>0</td>\n",
       "      <td>0</td>\n",
       "      <td>0</td>\n",
       "      <td>0</td>\n",
       "      <td>NaN</td>\n",
       "    </tr>\n",
       "  </tbody>\n",
       "</table>\n",
       "<p>5 rows × 281 columns</p>\n",
       "</div>"
      ],
      "text/plain": [
       "  collirptnum StateRep Intentnl Legal_int MedCause  legdis_num  fed_co  \\\n",
       "0     1292003      Yes       No        No       No          20      41   \n",
       "1     1292003      Yes       No        No       No          20      41   \n",
       "2     1313780      Yes       No        No       No          37      33   \n",
       "3     1313780      Yes       No        No       No          37      33   \n",
       "4     2336290      Yes       No        No       No          35      67   \n",
       "\n",
       "     county     city                           RTPO_name  ... dr_dist dr_spd  \\\n",
       "0     Lewis  Winlock           Southwest Washington RTPO  ...       1      0   \n",
       "1     Lewis  Winlock           Southwest Washington RTPO  ...       1      0   \n",
       "2      King  Seattle        Puget Sound Regional Council  ...       0      0   \n",
       "3      King  Seattle        Puget Sound Regional Council  ...       0      0   \n",
       "4  Thurston      NaN  Thurston Regional Planning Council  ...       1      0   \n",
       "\n",
       "  dr_fty  nm_alc  nm_drug nm_alcdrug  nm_dist  nm_fty nm_imp DR_ZIP  \n",
       "0      0       0        0          0        0       0      0    NaN  \n",
       "1      0       0        0          0        0       0      0    NaN  \n",
       "2      1       0        0          0        0       0      0    NaN  \n",
       "3      0       0        0          0        0       0      0    NaN  \n",
       "4      0       0        0          0        0       0      0    NaN  \n",
       "\n",
       "[5 rows x 281 columns]"
      ]
     },
     "execution_count": 23,
     "metadata": {},
     "output_type": "execute_result"
    }
   ],
   "source": [
    "dir = os.path.abspath(os.path.dirname(os.getcwd())) + '/data/'\n",
    "\n",
    "df_data_main = pd.read_csv(\n",
    "    dir + '/output/data_with_zipcode.csv').drop(axis=1, labels='Unnamed: 0')\n",
    "df_data_main.event_zipcode = df_data_main.event_zipcode.astype(\n",
    "    str)   # convert the default float type values into str\n",
    "\n",
    "df_data_inj = pd.read_csv(dir + '/source/dotperson2018.csv')\n",
    "for i in [2019, 2020, 2021]:\n",
    "    df_data_inj.append(\n",
    "        pd.read_csv(dir + '/source/dotperson' +str( i) + r'.csv')\n",
    "    )\n",
    "\n",
    "print(df_data_inj.shape)\n",
    "df_data_inj.head()"
   ]
  },
  {
   "cell_type": "code",
   "execution_count": 24,
   "metadata": {},
   "outputs": [
    {
     "data": {
      "text/plain": [
       "hazmat_name        1.000000\n",
       "DRErequest         0.999969\n",
       "miscact7_cd        0.999969\n",
       "IILpres            0.999948\n",
       "                     ...   \n",
       "collsev            0.000000\n",
       "most_sevinj_cd     0.000000\n",
       "most_sevinj_typ    0.000000\n",
       "towed              0.000000\n",
       "Length: 281, dtype: float64"
      ]
     },
     "execution_count": 24,
     "metadata": {},
     "output_type": "execute_result"
    }
   ],
   "source": [
    "null_counts = df_data_inj.apply(lambda c: max(\n",
    "    sum(c.isna()), sum(c.isnull())\n",
    ")).sort_values(ascending=False,)\n",
    "\n",
    "null_rate = null_counts / df_data_inj.shape[0]\n",
    "null_rate"
   ]
  },
  {
   "cell_type": "code",
   "execution_count": 25,
   "metadata": {},
   "outputs": [
    {
     "data": {
      "text/plain": [
       "Yes    96846\n",
       "Name: StateRep, dtype: int64"
      ]
     },
     "execution_count": 25,
     "metadata": {},
     "output_type": "execute_result"
    }
   ],
   "source": [
    "df_data_inj.StateRep.value_counts()"
   ]
  },
  {
   "cell_type": "code",
   "execution_count": 26,
   "metadata": {},
   "outputs": [
    {
     "data": {
      "text/plain": [
       "['StateRep',\n",
       " 'Intentnl',\n",
       " 'Legal_int',\n",
       " 'MedCause',\n",
       " 'year',\n",
       " 'num_fats',\n",
       " 'collsev',\n",
       " 'collsev_cd',\n",
       " 'IILreq',\n",
       " 'IILpres',\n",
       " 'TZ_rep',\n",
       " 'mc_fat',\n",
       " 'unhelmet_mcfat',\n",
       " 'ped_fat',\n",
       " 'bike_fat',\n",
       " 'nm_fat',\n",
       " 'unrest_fat']"
      ]
     },
     "execution_count": 26,
     "metadata": {},
     "output_type": "execute_result"
    }
   ],
   "source": [
    "val_count =  df_data_inj.apply(lambda c: len(c.value_counts()))\n",
    "\n",
    "mono_value_cols = list(filter(lambda i: val_count[i] == 1, val_count.index))\n",
    "mono_value_cols     # columns that value monotonously"
   ]
  },
  {
   "cell_type": "code",
   "execution_count": 27,
   "metadata": {},
   "outputs": [],
   "source": [
    "df_data_inj.drop(labels=mono_value_cols, axis=1, inplace=True)"
   ]
  },
  {
   "cell_type": "code",
   "execution_count": null,
   "metadata": {},
   "outputs": [],
   "source": []
  }
 ],
 "metadata": {
  "kernelspec": {
   "display_name": "Python 3.10.4 64-bit",
   "language": "python",
   "name": "python3"
  },
  "language_info": {
   "codemirror_mode": {
    "name": "ipython",
    "version": 3
   },
   "file_extension": ".py",
   "mimetype": "text/x-python",
   "name": "python",
   "nbconvert_exporter": "python",
   "pygments_lexer": "ipython3",
   "version": "3.10.4"
  },
  "orig_nbformat": 4,
  "vscode": {
   "interpreter": {
    "hash": "26de051ba29f2982a8de78e945f0abaf191376122a1563185a90213a26c5da77"
   }
  }
 },
 "nbformat": 4,
 "nbformat_minor": 2
}
