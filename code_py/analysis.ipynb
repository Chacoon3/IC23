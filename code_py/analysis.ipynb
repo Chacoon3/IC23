{
 "cells": [
  {
   "cell_type": "markdown",
   "metadata": {},
   "source": [
    "### <b>Washington State Fatal Crash Analysis</b>\n",
    "#### ---    presented by Team <b>IC23028</b>\n",
    "- Members: Zizheng (Sean) Zhang, Xiaoze (Sunny) Liu, Wangxi (Allen) Pan."
   ]
  },
  {
   "cell_type": "code",
   "execution_count": 373,
   "metadata": {},
   "outputs": [],
   "source": [
    "import pandas as pd\n",
    "import numpy as np\n",
    "import regex as re\n",
    "\n",
    "import datetime as dt\n",
    "\n",
    "import plotly.graph_objects as go\n",
    "\n",
    "import os\n",
    "\n",
    "import seaborn as sns\n",
    "import matplotlib.pyplot as plt\n",
    "\n",
    "import statistics\n",
    "\n",
    "pd.set_option('display.max_rows', 9)\n"
   ]
  },
  {
   "cell_type": "markdown",
   "metadata": {},
   "source": [
    "#### <b>1. Explorative Data Analysis</b></br>\n",
    "##### <b>1.1 Introduction to Datasets</b></br>\n",
    "- <b>df_data_main</b>: The original data set with an expanded column that stores the zipcode of the place where the accident occured</br>\n",
    "- <b> df_metadata_crashtype</b>: Derived from the table 6 of the data dictionary. It contains all the metainfo about a category of crashtype</br>\n",
    "- <b> df_metadata_driver_factor</b>: Derived from the table 7 of the data dictionary. It contains all the metainfo about driver behavioral factors.\n",
    "- <b> df_metadata_race</b>: Derived from data dictionary. It contains all the metainfo about the race factors.\n",
    "- <b> df_metadata_zipcode_lonlat</b>: Derived from the US20Codes20201320Data.csv file, containing information about zipcodes and their geological center."
   ]
  },
  {
   "cell_type": "code",
   "execution_count": 374,
   "metadata": {},
   "outputs": [
    {
     "name": "stderr",
     "output_type": "stream",
     "text": [
      "C:\\Users\\Chaconne\\AppData\\Local\\Temp\\ipykernel_32928\\3797786673.py:3: DtypeWarning:\n",
      "\n",
      "Columns (22,23,24,302,304) have mixed types. Specify dtype option on import or set low_memory=False.\n",
      "\n"
     ]
    },
    {
     "data": {
      "text/plain": [
       "(4132, 306)"
      ]
     },
     "execution_count": 374,
     "metadata": {},
     "output_type": "execute_result"
    }
   ],
   "source": [
    "dir = os.path.abspath(os.path.dirname(os.getcwd())) + '/data/'\n",
    "\n",
    "df_data_main = pd.read_csv(\n",
    "    dir + '/output/data_with_zipcode.csv').drop(axis=1, labels='Unnamed: 0')\n",
    "df_data_main.event_zipcode = df_data_main.event_zipcode.astype(\n",
    "    str)   # convert the default float type values into str\n",
    "\n",
    "df_metadata_crashtype = pd.read_csv(\n",
    "    dir + '/output/crash_type.csv').set_index(keys='type_index')\n",
    "\n",
    "df_metadata_driver_factor = pd.read_csv(\n",
    "    dir + '/output/driver_behavioral_factors.csv').drop(labels='Unnamed: 0', axis=1)\n",
    "\n",
    "\n",
    "df_metadata_race = pd.read_csv(dir + '/output/race_code.csv')\n",
    "\n",
    "df_metadata_zipcode_lonlat = pd.read_csv(\n",
    "    dir + '/output/zipcode_to_lonlat.csv').drop(labels='Unnamed: 0', axis=1)\n",
    "df_metadata_zipcode_lonlat['ZIP'] = df_metadata_zipcode_lonlat['ZIP'].astype(\n",
    "    object)\n",
    "\n",
    "\n",
    "df_data_main.shape\n"
   ]
  },
  {
   "cell_type": "markdown",
   "metadata": {},
   "source": [
    "##### <b>1.2 Data Cleaning</b>"
   ]
  },
  {
   "cell_type": "code",
   "execution_count": 375,
   "metadata": {},
   "outputs": [
    {
     "data": {
      "text/plain": [
       "(4132, 306)"
      ]
     },
     "execution_count": 375,
     "metadata": {},
     "output_type": "execute_result"
    }
   ],
   "source": [
    "# drop rows which do not have a valid event zipcode\n",
    "\n",
    "has_no_zipcode = df_data_main.event_zipcode.map(lambda v: v == 'nan')\n",
    "df_data_main = df_data_main[df_data_main.event_zipcode != 'nan']\n",
    "df_data_main.shape"
   ]
  },
  {
   "cell_type": "code",
   "execution_count": 376,
   "metadata": {},
   "outputs": [
    {
     "data": {
      "text/plain": [
       "(3996, 306)"
      ]
     },
     "execution_count": 376,
     "metadata": {},
     "output_type": "execute_result"
    }
   ],
   "source": [
    "# drop rows which do not have a person zipcode\n",
    "\n",
    "df_data_main.dzip = df_data_main.dzip.map(\n",
    "    lambda n: 0 if n == 0 else 0 if pd.isna(n) else int(n)\n",
    ")\n",
    "\n",
    "# valid zip codes are all 5 digit so we filter out those with less than 5 digits\n",
    "df_data_main = df_data_main[(df_data_main.dzip > 10000) & (df_data_main.dzip <= 99950)]\n",
    "df_data_main.dzip = df_data_main.dzip.astype(str)\n",
    "df_data_main.shape"
   ]
  },
  {
   "cell_type": "code",
   "execution_count": 377,
   "metadata": {},
   "outputs": [],
   "source": [
    "# clean the age column\n",
    "\n",
    "age_filter = filter(lambda v: v > 0 and v <= 100, df_data_main.age)\n",
    "age_mean = round(np.mean(list(age_filter), dtype=float), 0)\n",
    "\n",
    "df_data_main.age = df_data_main.age.map(\n",
    "    lambda v: age_mean if v < 0 or v >= 100 else v\n",
    ")"
   ]
  },
  {
   "cell_type": "markdown",
   "metadata": {},
   "source": [
    "#### <b> 2. Solutions</b>\n",
    "##### <b>2.1 Among drivers involved in fatal crashes, what proportion are involved in crashes in communities where they live?</b>\n",
    "\n",
    "- This question could be addressed directy by calculating the proportion of non-resident and resident drivers."
   ]
  },
  {
   "cell_type": "code",
   "execution_count": 378,
   "metadata": {},
   "outputs": [
    {
     "name": "stdout",
     "output_type": "stream",
     "text": [
      "24.3994% of the drivers are from the community where the accident occured\n"
     ]
    },
    {
     "data": {
      "text/plain": [
       "<AxesSubplot:title={'center':'proportion of non-resident vs. resident crashes'}>"
      ]
     },
     "execution_count": 378,
     "metadata": {},
     "output_type": "execute_result"
    },
    {
     "data": {
      "image/png": "[encoded data removed]",
      "text/plain": [
       "<Figure size 640x480 with 1 Axes>"
      ]
     },
     "metadata": {},
     "output_type": "display_data"
    }
   ],
   "source": [
    "df_data_main['is_resident'] = df_data_main.index.map(\n",
    "    lambda i: df_data_main.event_zipcode[i] == df_data_main.dzip[i]\n",
    ")\n",
    "\n",
    "df_data_main['is_driver'] = df_data_main.index.map(\n",
    "    lambda i: df_data_main.loc[i, 'ptype'] == 1\n",
    ")\n",
    "\n",
    "prop = len(df_data_main[(df_data_main.is_driver) & (df_data_main.is_resident == True)]) / float(len(df_data_main[df_data_main.is_driver]))\n",
    "\n",
    "print('{prop:.4f}% of the drivers are from the community where the accident occured'.format(\n",
    "    prop=prop * 100\n",
    "))\n",
    "\n",
    "pd.Series(\n",
    "    [1 - prop, prop, ], index=['non-resident', 'resident']\n",
    ").plot(\n",
    "    kind = 'bar', title = 'proportion of non-resident vs. resident crashes',\n",
    ")"
   ]
  },
  {
   "cell_type": "markdown",
   "metadata": {},
   "source": [
    "Based on our analysis, <b>24.3994%</b> of the drivers are from the community where the accident occured."
   ]
  },
  {
   "cell_type": "markdown",
   "metadata": {},
   "source": [
    "##### <b>2.2 Are there differences in the <u>crash types</u> in those crashes among “residents” versus those deemed to be not “from” the area?</b>\n",
    "- We will first take a look at the types of crashes among residents versus non-residents drivers. To that end, we load the metadata regarding crash types."
   ]
  },
  {
   "cell_type": "code",
   "execution_count": 379,
   "metadata": {},
   "outputs": [
    {
     "data": {
      "text/html": [
       "<div>\n",
       "<style scoped>\n",
       "    .dataframe tbody tr th:only-of-type {\n",
       "        vertical-align: middle;\n",
       "    }\n",
       "\n",
       "    .dataframe tbody tr th {\n",
       "        vertical-align: top;\n",
       "    }\n",
       "\n",
       "    .dataframe thead th {\n",
       "        text-align: right;\n",
       "    }\n",
       "</style>\n",
       "<table border=\"1\" class=\"dataframe\">\n",
       "  <thead>\n",
       "    <tr style=\"text-align: right;\">\n",
       "      <th></th>\n",
       "      <th>crash_type</th>\n",
       "      <th>category</th>\n",
       "    </tr>\n",
       "    <tr>\n",
       "      <th>type_index</th>\n",
       "      <th></th>\n",
       "      <th></th>\n",
       "    </tr>\n",
       "  </thead>\n",
       "  <tbody>\n",
       "    <tr>\n",
       "      <th>0</th>\n",
       "      <td>No Impact</td>\n",
       "      <td>NOT CATEGORIZED</td>\n",
       "    </tr>\n",
       "    <tr>\n",
       "      <th>1</th>\n",
       "      <td>Drive Off Road</td>\n",
       "      <td>SINGLE DRIVER</td>\n",
       "    </tr>\n",
       "    <tr>\n",
       "      <th>2</th>\n",
       "      <td>Control/Traction Loss</td>\n",
       "      <td>SINGLE DRIVER</td>\n",
       "    </tr>\n",
       "    <tr>\n",
       "      <th>3</th>\n",
       "      <td>Avoid Collision with Vehicle, Pedestrian, Animal</td>\n",
       "      <td>SINGLE DRIVER</td>\n",
       "    </tr>\n",
       "    <tr>\n",
       "      <th>4</th>\n",
       "      <td>Specifics Other</td>\n",
       "      <td>SINGLE DRIVER</td>\n",
       "    </tr>\n",
       "  </tbody>\n",
       "</table>\n",
       "</div>"
      ],
      "text/plain": [
       "                                                   crash_type         category\n",
       "type_index                                                                    \n",
       "0                                                  No Impact   NOT CATEGORIZED\n",
       "1                                             Drive Off Road     SINGLE DRIVER\n",
       "2                                      Control/Traction Loss     SINGLE DRIVER\n",
       "3           Avoid Collision with Vehicle, Pedestrian, Animal     SINGLE DRIVER\n",
       "4                                            Specifics Other     SINGLE DRIVER"
      ]
     },
     "execution_count": 379,
     "metadata": {},
     "output_type": "execute_result"
    }
   ],
   "source": [
    "# this dataframe stores the meta info of the variable crashtype\n",
    "df_metadata_crashtype.head()"
   ]
  },
  {
   "cell_type": "code",
   "execution_count": 380,
   "metadata": {},
   "outputs": [],
   "source": [
    "map_crashtype_category = {  # maps a crashtype index to its category\n",
    "    k: v for k, v in zip(df_metadata_crashtype.index, df_metadata_crashtype.category)\n",
    "}\n",
    "\n",
    "map_crashtype_eng = {   # maps a crashtype index to its actual meaning\n",
    "    k: v for k, v in zip(df_metadata_crashtype.index, df_metadata_crashtype['crash_type'])\n",
    "}\n",
    "\n",
    "df_data_main['crash_category'] = df_data_main.crashtype.map(map_crashtype_category)\n",
    "df_data_main['crashtype_eng'] = df_data_main.crashtype.map(map_crashtype_eng)"
   ]
  },
  {
   "cell_type": "code",
   "execution_count": 381,
   "metadata": {},
   "outputs": [
    {
     "data": {
      "text/html": [
       "<div>\n",
       "<style scoped>\n",
       "    .dataframe tbody tr th:only-of-type {\n",
       "        vertical-align: middle;\n",
       "    }\n",
       "\n",
       "    .dataframe tbody tr th {\n",
       "        vertical-align: top;\n",
       "    }\n",
       "\n",
       "    .dataframe thead th {\n",
       "        text-align: right;\n",
       "    }\n",
       "</style>\n",
       "<table border=\"1\" class=\"dataframe\">\n",
       "  <thead>\n",
       "    <tr style=\"text-align: right;\">\n",
       "      <th></th>\n",
       "      <th>crashtype</th>\n",
       "      <th>is_resident</th>\n",
       "      <th>case_count</th>\n",
       "      <th>case_proportion</th>\n",
       "    </tr>\n",
       "  </thead>\n",
       "  <tbody>\n",
       "    <tr>\n",
       "      <th>0</th>\n",
       "      <td>0</td>\n",
       "      <td>False</td>\n",
       "      <td>18</td>\n",
       "      <td>0.005958</td>\n",
       "    </tr>\n",
       "    <tr>\n",
       "      <th>1</th>\n",
       "      <td>0</td>\n",
       "      <td>True</td>\n",
       "      <td>4</td>\n",
       "      <td>0.004103</td>\n",
       "    </tr>\n",
       "    <tr>\n",
       "      <th>2</th>\n",
       "      <td>1</td>\n",
       "      <td>False</td>\n",
       "      <td>240</td>\n",
       "      <td>0.079444</td>\n",
       "    </tr>\n",
       "    <tr>\n",
       "      <th>3</th>\n",
       "      <td>1</td>\n",
       "      <td>True</td>\n",
       "      <td>95</td>\n",
       "      <td>0.097436</td>\n",
       "    </tr>\n",
       "    <tr>\n",
       "      <th>4</th>\n",
       "      <td>2</td>\n",
       "      <td>False</td>\n",
       "      <td>99</td>\n",
       "      <td>0.032771</td>\n",
       "    </tr>\n",
       "    <tr>\n",
       "      <th>5</th>\n",
       "      <td>2</td>\n",
       "      <td>True</td>\n",
       "      <td>33</td>\n",
       "      <td>0.033846</td>\n",
       "    </tr>\n",
       "    <tr>\n",
       "      <th>6</th>\n",
       "      <td>3</td>\n",
       "      <td>False</td>\n",
       "      <td>2</td>\n",
       "      <td>0.000662</td>\n",
       "    </tr>\n",
       "    <tr>\n",
       "      <th>7</th>\n",
       "      <td>5</td>\n",
       "      <td>False</td>\n",
       "      <td>1</td>\n",
       "      <td>0.000331</td>\n",
       "    </tr>\n",
       "  </tbody>\n",
       "</table>\n",
       "</div>"
      ],
      "text/plain": [
       "   crashtype  is_resident  case_count  case_proportion\n",
       "0          0        False          18         0.005958\n",
       "1          0         True           4         0.004103\n",
       "2          1        False         240         0.079444\n",
       "3          1         True          95         0.097436\n",
       "4          2        False          99         0.032771\n",
       "5          2         True          33         0.033846\n",
       "6          3        False           2         0.000662\n",
       "7          5        False           1         0.000331"
      ]
     },
     "execution_count": 381,
     "metadata": {},
     "output_type": "execute_result"
    }
   ],
   "source": [
    "# count the occurances of each crashtype for both the residenr and non-resident groups\n",
    "df_data_crash = df_data_main.drop_duplicates(subset='par').groupby(\n",
    "    by=['crashtype', 'is_resident']\n",
    ").agg(\n",
    "    case_count=pd.NamedAgg(column='par', aggfunc=len),\n",
    ").reset_index()\n",
    "\n",
    "\n",
    "# temporary dataframe for calculating total by is_resident\n",
    "df_temp = df_data_main.groupby('is_resident').par.agg('count')\n",
    "# print(df_temp)\n",
    "non_resident_event_count = float(df_temp.iloc[0])\n",
    "resident_event_count = float(df_temp.iloc[1])\n",
    "del df_temp\n",
    "\n",
    "\n",
    "def get_case_proportion(case_index: int, crash_dataframe: pd.DataFrame) -> float:\n",
    "    is_resident = crash_dataframe.loc[case_index, 'is_resident']\n",
    "    case_count = crash_dataframe.loc[case_index, 'case_count']\n",
    "    if is_resident:\n",
    "        ratio = case_count / resident_event_count\n",
    "    else:\n",
    "        ratio = case_count / non_resident_event_count\n",
    "    return ratio\n",
    "\n",
    "\n",
    "df_data_crash['case_proportion'] = df_data_crash.index.map(\n",
    "    lambda i: get_case_proportion(i, df_data_crash)\n",
    ")\n",
    "\n",
    "df_data_crash[:8]"
   ]
  },
  {
   "cell_type": "markdown",
   "metadata": {},
   "source": [
    "- From previous analysis we know that the occurences of non-resident driver car crash outnumbers that of resident drivers', comparison based on counts of occurences thus cannot clearly show the different patterns among resident and non-resident drivers.\n",
    "- The following pivot table compares the proportion of crashtypes in both the driver groups and shows the difference of the proportions. It is sorted in decsending order by the proportional difference."
   ]
  },
  {
   "cell_type": "code",
   "execution_count": 382,
   "metadata": {},
   "outputs": [
    {
     "data": {
      "text/html": [
       "<div>\n",
       "<style scoped>\n",
       "    .dataframe tbody tr th:only-of-type {\n",
       "        vertical-align: middle;\n",
       "    }\n",
       "\n",
       "    .dataframe tbody tr th {\n",
       "        vertical-align: top;\n",
       "    }\n",
       "\n",
       "    .dataframe thead tr th {\n",
       "        text-align: left;\n",
       "    }\n",
       "\n",
       "    .dataframe thead tr:last-of-type th {\n",
       "        text-align: right;\n",
       "    }\n",
       "</style>\n",
       "<table border=\"1\" class=\"dataframe\">\n",
       "  <thead>\n",
       "    <tr>\n",
       "      <th></th>\n",
       "      <th colspan=\"2\" halign=\"left\">case_proportion</th>\n",
       "      <th>prop_diff</th>\n",
       "      <th>crashtype_eng</th>\n",
       "    </tr>\n",
       "    <tr>\n",
       "      <th>is_resident</th>\n",
       "      <th>False</th>\n",
       "      <th>True</th>\n",
       "      <th></th>\n",
       "      <th></th>\n",
       "    </tr>\n",
       "    <tr>\n",
       "      <th>crashtype</th>\n",
       "      <th></th>\n",
       "      <th></th>\n",
       "      <th></th>\n",
       "      <th></th>\n",
       "    </tr>\n",
       "  </thead>\n",
       "  <tbody>\n",
       "    <tr>\n",
       "      <th>50</th>\n",
       "      <td>0.066534</td>\n",
       "      <td>0.048205</td>\n",
       "      <td>0.018329</td>\n",
       "      <td>Lateral Move (Left/Right)</td>\n",
       "    </tr>\n",
       "    <tr>\n",
       "      <th>98</th>\n",
       "      <td>0.050976</td>\n",
       "      <td>0.042051</td>\n",
       "      <td>0.008925</td>\n",
       "      <td>Other Crash Type</td>\n",
       "    </tr>\n",
       "    <tr>\n",
       "      <th>28</th>\n",
       "      <td>0.007282</td>\n",
       "      <td>0.001026</td>\n",
       "      <td>0.006257</td>\n",
       "      <td>Decelerating (Slowing)</td>\n",
       "    </tr>\n",
       "    <tr>\n",
       "      <th>66</th>\n",
       "      <td>0.016220</td>\n",
       "      <td>0.010256</td>\n",
       "      <td>0.005963</td>\n",
       "      <td>Specifics Other</td>\n",
       "    </tr>\n",
       "    <tr>\n",
       "      <th>52</th>\n",
       "      <td>0.006951</td>\n",
       "      <td>0.003077</td>\n",
       "      <td>0.003874</td>\n",
       "      <td>Specifics Other</td>\n",
       "    </tr>\n",
       "  </tbody>\n",
       "</table>\n",
       "</div>"
      ],
      "text/plain": [
       "            case_proportion           prop_diff               crashtype_eng\n",
       "is_resident           False      True                                      \n",
       "crashtype                                                                  \n",
       "50                 0.066534  0.048205  0.018329  Lateral Move (Left/Right) \n",
       "98                 0.050976  0.042051  0.008925           Other Crash Type \n",
       "28                 0.007282  0.001026  0.006257     Decelerating (Slowing) \n",
       "66                 0.016220  0.010256  0.005963            Specifics Other \n",
       "52                 0.006951  0.003077  0.003874            Specifics Other "
      ]
     },
     "execution_count": 382,
     "metadata": {},
     "output_type": "execute_result"
    }
   ],
   "source": [
    "df_crash_pivoted = df_data_crash.pivot(\n",
    "    index='crashtype', columns='is_resident', values=['case_proportion']\n",
    ")\n",
    "\n",
    "df_crash_pivoted['prop_diff'] = df_crash_pivoted[('case_proportion', False)] - df_crash_pivoted[('case_proportion', True)]\n",
    "df_crash_pivoted.sort_values(by='prop_diff', ascending=False, inplace=True)\n",
    "df_crash_pivoted = df_crash_pivoted.fillna(0)\n",
    "\n",
    "df_crash_pivoted['crashtype_eng'] = df_crash_pivoted.index.map(map_crashtype_eng)\n",
    "df_crash_pivoted[:5]"
   ]
  },
  {
   "cell_type": "markdown",
   "metadata": {},
   "source": [
    "- According to the pivot table, the largest difference of case proportion appears in crash types <b>50, 98, 28, 25,52</b>, which are <b>Lateral Move (Left/Right), Other Crash Type, Decelerating (Slowing), and Slower, Going Straight</b>.</br>\n",
    "- Filtering out <b>Other Crash Type</b> and <b>Specifics Other</b>, which represent uncategorized crash types, we then conclude that <b>Lateral Move, Decelerating, and Slower, Going Straight</b> are the most frequent crash types."
   ]
  },
  {
   "cell_type": "code",
   "execution_count": 383,
   "metadata": {},
   "outputs": [
    {
     "data": {
      "text/plain": [
       "<AxesSubplot:xlabel='crashtype'>"
      ]
     },
     "execution_count": 383,
     "metadata": {},
     "output_type": "execute_result"
    },
    {
     "data": {
      "image/png": "[encoded data removed]",
      "text/plain": [
       "<Figure size 640x480 with 1 Axes>"
      ]
     },
     "metadata": {},
     "output_type": "display_data"
    }
   ],
   "source": [
    "df_crash_pivoted.case_proportion[:5].plot(kind = 'bar')"
   ]
  },
  {
   "cell_type": "code",
   "execution_count": 384,
   "metadata": {},
   "outputs": [
    {
     "data": {
      "text/plain": [
       "<AxesSubplot:title={'center':'distribution of crashtype - resident group'}, xlabel='crashtype'>"
      ]
     },
     "execution_count": 384,
     "metadata": {},
     "output_type": "execute_result"
    },
    {
     "data": {
      "image/png": "[encoded data removed]",
      "text/plain": [
       "<Figure size 300x200 with 1 Axes>"
      ]
     },
     "metadata": {},
     "output_type": "display_data"
    }
   ],
   "source": [
    "resident_crashes = df_data_crash[\n",
    "        df_data_crash.is_resident\n",
    "    ].set_index(\n",
    "        drop=True, keys='crashtype'\n",
    "    )\n",
    "\n",
    "\n",
    "non_resident_crashes = df_data_crash[\n",
    "        df_data_crash.is_resident == False\n",
    "    ].set_index(\n",
    "        drop=True, keys='crashtype'\n",
    "    )\n",
    "\n",
    "\n",
    "# filter the  crash types which have their count of occurences no less than the upper quartile \n",
    "resident_crashes[\n",
    "    resident_crashes.case_count >= resident_crashes.case_count.quantile(.75)\n",
    "].case_count.sort_values(\n",
    "    ascending=False\n",
    ").plot(\n",
    "    kind = 'bar', title = 'distribution of crashtype - resident group', figsize=(3,2)\n",
    ")"
   ]
  },
  {
   "cell_type": "code",
   "execution_count": 385,
   "metadata": {},
   "outputs": [
    {
     "data": {
      "text/plain": [
       "<AxesSubplot:title={'center':'distribution of crashtype - non-resident group'}, xlabel='crashtype'>"
      ]
     },
     "execution_count": 385,
     "metadata": {},
     "output_type": "execute_result"
    },
    {
     "data": {
      "image/png": "[encoded data removed]",
      "text/plain": [
       "<Figure size 300x200 with 1 Axes>"
      ]
     },
     "metadata": {},
     "output_type": "display_data"
    }
   ],
   "source": [
    "non_resident_crashes[\n",
    "    non_resident_crashes.case_count >= non_resident_crashes.case_count.quantile(.75)\n",
    "].case_count.sort_values(\n",
    "    ascending=False\n",
    ").plot(\n",
    "    kind = 'bar', title = 'distribution of crashtype - non-resident group', figsize=(3,2)\n",
    ")"
   ]
  },
  {
   "cell_type": "markdown",
   "metadata": {},
   "source": [
    "- Both the bar braph show pattern of Pareto distribution - a small number of crash types account for most of the accidents.\n",
    "- Comparing the two distributions, we found that the first few crash types in both groups are the same, which are <b>pedestrian/animal, drive off road (right road side departure), drive off road (left road side departure), and lateral move (left/right)</b>. These crash types account for some <B>50%</b> of the crashes.\n",
    "- On the other hand, tail part distribution of crash types differ from each of the groups."
   ]
  },
  {
   "cell_type": "markdown",
   "metadata": {},
   "source": [
    "##### <b>2.3 Are there differences in the <u>behavior factors</u> in those crashes among “residents” versus those deemed to be not “from” the area?"
   ]
  },
  {
   "cell_type": "code",
   "execution_count": 386,
   "metadata": {},
   "outputs": [
    {
     "data": {
      "text/html": [
       "<div>\n",
       "<style scoped>\n",
       "    .dataframe tbody tr th:only-of-type {\n",
       "        vertical-align: middle;\n",
       "    }\n",
       "\n",
       "    .dataframe tbody tr th {\n",
       "        vertical-align: top;\n",
       "    }\n",
       "\n",
       "    .dataframe thead th {\n",
       "        text-align: right;\n",
       "    }\n",
       "</style>\n",
       "<table border=\"1\" class=\"dataframe\">\n",
       "  <thead>\n",
       "    <tr style=\"text-align: right;\">\n",
       "      <th></th>\n",
       "      <th>factor_index</th>\n",
       "      <th>driver_factor</th>\n",
       "      <th>effect_start</th>\n",
       "      <th>effect_end</th>\n",
       "      <th>factor_category</th>\n",
       "    </tr>\n",
       "  </thead>\n",
       "  <tbody>\n",
       "    <tr>\n",
       "      <th>0</th>\n",
       "      <td>0</td>\n",
       "      <td>No factors identified for this driver</td>\n",
       "      <td>0</td>\n",
       "      <td>9999</td>\n",
       "      <td>default</td>\n",
       "    </tr>\n",
       "    <tr>\n",
       "      <th>1</th>\n",
       "      <td>4</td>\n",
       "      <td>Reaction to/Failure to take Drugs/Medication</td>\n",
       "      <td>0</td>\n",
       "      <td>9999</td>\n",
       "      <td>Physical/Mental Condition</td>\n",
       "    </tr>\n",
       "    <tr>\n",
       "      <th>2</th>\n",
       "      <td>6</td>\n",
       "      <td>Careless Driving</td>\n",
       "      <td>2012</td>\n",
       "      <td>9999</td>\n",
       "      <td>Physical/Mental Condition</td>\n",
       "    </tr>\n",
       "    <tr>\n",
       "      <th>3</th>\n",
       "      <td>8</td>\n",
       "      <td>Aggressive Driving Road Rage</td>\n",
       "      <td>2004</td>\n",
       "      <td>9999</td>\n",
       "      <td>Physical/Mental Condition</td>\n",
       "    </tr>\n",
       "    <tr>\n",
       "      <th>...</th>\n",
       "      <td>...</td>\n",
       "      <td>...</td>\n",
       "      <td>...</td>\n",
       "      <td>...</td>\n",
       "      <td>...</td>\n",
       "    </tr>\n",
       "    <tr>\n",
       "      <th>76</th>\n",
       "      <td>94</td>\n",
       "      <td>Emergency Medical Service Personnel</td>\n",
       "      <td>0</td>\n",
       "      <td>2018</td>\n",
       "      <td>Possible Distraction Inside Vehicle</td>\n",
       "    </tr>\n",
       "    <tr>\n",
       "      <th>77</th>\n",
       "      <td>95</td>\n",
       "      <td>Fire Personnel</td>\n",
       "      <td>0</td>\n",
       "      <td>2018</td>\n",
       "      <td>Possible Distraction Inside Vehicle</td>\n",
       "    </tr>\n",
       "    <tr>\n",
       "      <th>78</th>\n",
       "      <td>96</td>\n",
       "      <td>Tow Operator</td>\n",
       "      <td>0</td>\n",
       "      <td>2018</td>\n",
       "      <td>Possible Distraction Inside Vehicle</td>\n",
       "    </tr>\n",
       "    <tr>\n",
       "      <th>79</th>\n",
       "      <td>97</td>\n",
       "      <td>Transportation i.e. maintenance workers, safte...</td>\n",
       "      <td>0</td>\n",
       "      <td>2018</td>\n",
       "      <td>Possible Distraction Inside Vehicle</td>\n",
       "    </tr>\n",
       "  </tbody>\n",
       "</table>\n",
       "<p>79 rows × 5 columns</p>\n",
       "</div>"
      ],
      "text/plain": [
       "    factor_index                                      driver_factor  \\\n",
       "0              0              No factors identified for this driver   \n",
       "1              4      Reaction to/Failure to take Drugs/Medication    \n",
       "2              6                                  Careless Driving    \n",
       "3              8                     Aggressive Driving Road Rage     \n",
       "..           ...                                                ...   \n",
       "76            94               Emergency Medical Service Personnel    \n",
       "77            95                                    Fire Personnel    \n",
       "78            96                                      Tow Operator    \n",
       "79            97  Transportation i.e. maintenance workers, safte...   \n",
       "\n",
       "    effect_start  effect_end                      factor_category  \n",
       "0              0        9999                              default  \n",
       "1              0        9999            Physical/Mental Condition  \n",
       "2           2012        9999            Physical/Mental Condition  \n",
       "3           2004        9999            Physical/Mental Condition  \n",
       "..           ...         ...                                  ...  \n",
       "76             0        2018  Possible Distraction Inside Vehicle  \n",
       "77             0        2018  Possible Distraction Inside Vehicle  \n",
       "78             0        2018  Possible Distraction Inside Vehicle  \n",
       "79             0        2018  Possible Distraction Inside Vehicle  \n",
       "\n",
       "[79 rows x 5 columns]"
      ]
     },
     "execution_count": 386,
     "metadata": {},
     "output_type": "execute_result"
    }
   ],
   "source": [
    "df_metadata_driver_factor = df_metadata_driver_factor.loc[\n",
    "    df_metadata_driver_factor.effect_end >= df_data_main.year.min(), :\n",
    "]   # filter out factors that do not take effect during the timeframe of the dataset\n",
    "\n",
    "df_metadata_driver_factor = df_metadata_driver_factor.sort_values(\n",
    "    by='factor_index', ascending=True).reset_index(drop=True)\n",
    "df_metadata_driver_factor = df_metadata_driver_factor[df_metadata_driver_factor.effect_start <= df_data_main.year.min()]\n",
    "df_metadata_driver_factor"
   ]
  },
  {
   "cell_type": "markdown",
   "metadata": {},
   "source": [
    "Note that for each factor index, its meaning may change over time. We thus encoded two columns, <b>effect_start</b> and <b>effect_end</b> to record the start year and the end year of that meaning. Values 0 and 9999 imply no time boundary for respective columns."
   ]
  },
  {
   "cell_type": "code",
   "execution_count": 387,
   "metadata": {},
   "outputs": [],
   "source": [
    "def sum_driver_factor(index: int, df: pd.DataFrame):\n",
    "    # first conerted to int to remove trailing decimal zero\n",
    "    joint = '|'.join(df.loc[index, 'drf1':'drf4'].astype(int).astype(str))\n",
    "    return re.sub(pattern=r'\\|0', string=joint, repl='')\n",
    "\n",
    "\n",
    "df_data_main.loc[:, 'drf1':'drf4'] = df_data_main.loc[:, 'drf1':'drf4'].fillna(0)     # in this case, na suggests no factor rather than the missing of value\n",
    "df_data_main['drf'] = df_data_main.index.map(lambda i:  sum_driver_factor(i, df_data_main))\n",
    "\n",
    "\n",
    "# drop the original component columns as we already acquired the summed up one\n",
    "df_data_main.drop(axis=1, labels=['drf1', 'drf2', 'drf3', 'drf4'], inplace=True)"
   ]
  },
  {
   "cell_type": "code",
   "execution_count": 388,
   "metadata": {},
   "outputs": [
    {
     "data": {
      "text/html": [
       "<div>\n",
       "<style scoped>\n",
       "    .dataframe tbody tr th:only-of-type {\n",
       "        vertical-align: middle;\n",
       "    }\n",
       "\n",
       "    .dataframe tbody tr th {\n",
       "        vertical-align: top;\n",
       "    }\n",
       "\n",
       "    .dataframe thead th {\n",
       "        text-align: right;\n",
       "    }\n",
       "</style>\n",
       "<table border=\"1\" class=\"dataframe\">\n",
       "  <thead>\n",
       "    <tr style=\"text-align: right;\">\n",
       "      <th></th>\n",
       "      <th>non-resident</th>\n",
       "      <th>resident</th>\n",
       "      <th>prop_diff</th>\n",
       "    </tr>\n",
       "    <tr>\n",
       "      <th>drf</th>\n",
       "      <th></th>\n",
       "      <th></th>\n",
       "      <th></th>\n",
       "    </tr>\n",
       "  </thead>\n",
       "  <tbody>\n",
       "    <tr>\n",
       "      <th>28</th>\n",
       "      <td>0.070527</td>\n",
       "      <td>0.059838</td>\n",
       "      <td>0.010690</td>\n",
       "    </tr>\n",
       "    <tr>\n",
       "      <th>39</th>\n",
       "      <td>0.033970</td>\n",
       "      <td>0.025355</td>\n",
       "      <td>0.008615</td>\n",
       "    </tr>\n",
       "    <tr>\n",
       "      <th>38</th>\n",
       "      <td>0.061792</td>\n",
       "      <td>0.055781</td>\n",
       "      <td>0.006011</td>\n",
       "    </tr>\n",
       "    <tr>\n",
       "      <th>8</th>\n",
       "      <td>0.012617</td>\n",
       "      <td>0.010142</td>\n",
       "      <td>0.002475</td>\n",
       "    </tr>\n",
       "  </tbody>\n",
       "</table>\n",
       "</div>"
      ],
      "text/plain": [
       "     non-resident  resident  prop_diff\n",
       "drf                                   \n",
       "28       0.070527  0.059838   0.010690\n",
       "39       0.033970  0.025355   0.008615\n",
       "38       0.061792  0.055781   0.006011\n",
       "8        0.012617  0.010142   0.002475"
      ]
     },
     "execution_count": 388,
     "metadata": {},
     "output_type": "execute_result"
    }
   ],
   "source": [
    "def get_factor_levels(col):\n",
    "    res = []\n",
    "    for val in col:\n",
    "        val_split = val.split('|')\n",
    "        for v in val_split:\n",
    "            res.append(v)\n",
    "    return sorted(np.unique(res))   # sort the levels\n",
    "\n",
    "\n",
    "# store the distinct values of drf\n",
    "drf_distinct_vals = get_factor_levels(df_data_main.drf)\n",
    "\n",
    "\n",
    "def factor_to_dummy(col, level):\n",
    "    col_len = len(col)\n",
    "\n",
    "    data_dict = {\n",
    "        lv: [0] * col_len for lv in level\n",
    "    }\n",
    "    for i in range(col_len):\n",
    "        keys = col[i].split('|')\n",
    "        for key in keys:\n",
    "            data_dict[key][i] = 1\n",
    "    return pd.DataFrame(data_dict)\n",
    "\n",
    "\n",
    "df_drf_dist = factor_to_dummy(df_data_main.drf.values, drf_distinct_vals)\n",
    "df_drf_dist.insert(0, 'is_resident', df_data_main.is_resident)\n",
    "df_drf_dist = df_drf_dist.groupby('is_resident').agg('sum')\n",
    "# get corresponding proportion\n",
    "df_drf_dist.loc[0, :] = df_drf_dist.loc[0, :] / sum(df_drf_dist.loc[0, :])\n",
    "df_drf_dist.loc[1, :] = df_drf_dist.loc[1, :] / sum(df_drf_dist.loc[1, :])\n",
    "df_drf_dist = df_drf_dist.transpose()\n",
    "\n",
    "\n",
    "df_drf_dist.columns = ['non-resident', 'resident']\n",
    "df_drf_dist['prop_diff'] = df_drf_dist['non-resident'] - df_drf_dist['resident']\n",
    "df_drf_dist.sort_values(by='prop_diff', inplace=True, ascending=False)\n",
    "df_drf_dist.set_index(pd.Series(df_drf_dist.index, name='drf', dtype=int), inplace=True)\n",
    "df_drf_dist[:4]"
   ]
  },
  {
   "cell_type": "code",
   "execution_count": 389,
   "metadata": {},
   "outputs": [
    {
     "data": {
      "text/plain": [
       "<AxesSubplot:title={'center':'Proportion of Behavioral Factors across Two Groups'}, xlabel='drf'>"
      ]
     },
     "execution_count": 389,
     "metadata": {},
     "output_type": "execute_result"
    },
    {
     "data": {
      "image/png": "[encoded data removed]",
      "text/plain": [
       "<Figure size 640x480 with 1 Axes>"
      ]
     },
     "metadata": {},
     "output_type": "display_data"
    }
   ],
   "source": [
    "df_drf_dist.drop(labels = 'prop_diff', axis=1)[:4].plot(kind='bar', title='Proportion of Behavioral Factors across Two Groups')"
   ]
  },
  {
   "cell_type": "markdown",
   "metadata": {},
   "source": [
    "- The table above suggests that compared to resident drivers, non-resident drviers are much more likely to encounter accidents that result from the behavioral factor <b>28</b>, that is, <b>improper lane use</b>.\n",
    "\n",
    "The following blocks focus on the analysis of <b>distraction factors</b>. As the distraction index 0 means not distracted, and index 96 not reported, we merge these two categories into one."
   ]
  },
  {
   "cell_type": "code",
   "execution_count": 390,
   "metadata": {},
   "outputs": [
    {
     "data": {
      "text/plain": [
       "0       3443\n",
       "92       308\n",
       "93       140\n",
       "12        20\n",
       "        ... \n",
       "5|93       1\n",
       "14         1\n",
       "3|6        1\n",
       "97         1\n",
       "Name: distract, Length: 20, dtype: int64"
      ]
     },
     "execution_count": 390,
     "metadata": {},
     "output_type": "execute_result"
    }
   ],
   "source": [
    "df_data_main.loc[:, 'distract1': 'distract6'] = df_data_main.loc[:, 'distract1': 'distract6'].fillna(0)\n",
    "\n",
    "\n",
    "def sum_distract_factors(ind: int, df: pd.DataFrame):\n",
    "    return re.sub(string=\"|\".join(df.loc[ind, 'distract1': 'distract6'].astype(int).astype(str)), pattern=r'\\|0', repl='')\n",
    "\n",
    "\n",
    "df_data_main['distract'] = df_data_main.index.map(\n",
    "    lambda i: re.sub(string=sum_distract_factors(i, df_data_main), repl='0', pattern='96')\n",
    ")\n",
    "\n",
    "df_data_main.drop(axis=1, labels=['distract1', 'distract2', 'distract3', 'distract4', 'distract5', 'distract6'], inplace=True)\n",
    "df_data_main.distract.value_counts(ascending=False)"
   ]
  },
  {
   "cell_type": "code",
   "execution_count": 391,
   "metadata": {},
   "outputs": [
    {
     "data": {
      "text/html": [
       "<div>\n",
       "<style scoped>\n",
       "    .dataframe tbody tr th:only-of-type {\n",
       "        vertical-align: middle;\n",
       "    }\n",
       "\n",
       "    .dataframe tbody tr th {\n",
       "        vertical-align: top;\n",
       "    }\n",
       "\n",
       "    .dataframe thead th {\n",
       "        text-align: right;\n",
       "    }\n",
       "</style>\n",
       "<table border=\"1\" class=\"dataframe\">\n",
       "  <thead>\n",
       "    <tr style=\"text-align: right;\">\n",
       "      <th></th>\n",
       "      <th>non-resident</th>\n",
       "      <th>resident</th>\n",
       "      <th>prop_diff</th>\n",
       "    </tr>\n",
       "    <tr>\n",
       "      <th>distract_factor</th>\n",
       "      <th></th>\n",
       "      <th></th>\n",
       "      <th></th>\n",
       "    </tr>\n",
       "  </thead>\n",
       "  <tbody>\n",
       "    <tr>\n",
       "      <th>93</th>\n",
       "      <td>0.038553</td>\n",
       "      <td>0.026652</td>\n",
       "      <td>0.011901</td>\n",
       "    </tr>\n",
       "    <tr>\n",
       "      <th>1</th>\n",
       "      <td>0.004777</td>\n",
       "      <td>0.002132</td>\n",
       "      <td>0.002644</td>\n",
       "    </tr>\n",
       "    <tr>\n",
       "      <th>12</th>\n",
       "      <td>0.005800</td>\n",
       "      <td>0.003198</td>\n",
       "      <td>0.002602</td>\n",
       "    </tr>\n",
       "    <tr>\n",
       "      <th>5</th>\n",
       "      <td>0.001365</td>\n",
       "      <td>0.000000</td>\n",
       "      <td>0.001365</td>\n",
       "    </tr>\n",
       "    <tr>\n",
       "      <th>13</th>\n",
       "      <td>0.001365</td>\n",
       "      <td>0.000000</td>\n",
       "      <td>0.001365</td>\n",
       "    </tr>\n",
       "  </tbody>\n",
       "</table>\n",
       "</div>"
      ],
      "text/plain": [
       "                 non-resident  resident  prop_diff\n",
       "distract_factor                                   \n",
       "93                   0.038553  0.026652   0.011901\n",
       "1                    0.004777  0.002132   0.002644\n",
       "12                   0.005800  0.003198   0.002602\n",
       "5                    0.001365  0.000000   0.001365\n",
       "13                   0.001365  0.000000   0.001365"
      ]
     },
     "execution_count": 391,
     "metadata": {},
     "output_type": "execute_result"
    }
   ],
   "source": [
    "distinct_distract = get_factor_levels(df_data_main.distract)\n",
    "\n",
    "df_distract = factor_to_dummy(df_data_main.distract.values, distinct_distract)\n",
    "df_distract.insert(0, column='is_resident', value=df_data_main.is_resident)\n",
    "df_distract = df_distract.groupby('is_resident').agg('sum')\n",
    "\n",
    "df_distract.loc[0, :] = df_distract.loc[0, :] / sum(df_distract.loc[0, :])\n",
    "df_distract.loc[1, :] = df_distract.loc[1, :] / sum(df_distract.loc[1, :])\n",
    "\n",
    "df_distract = df_distract.transpose()\n",
    "df_distract.columns = ['non-resident', 'resident']\n",
    "df_distract['prop_diff'] = df_distract['non-resident'] - df_distract['resident']\n",
    "df_distract.sort_values(by='prop_diff', inplace=True, ascending=False)\n",
    "df_distract.set_index(\n",
    "    pd.Series(df_distract.index, name='distract_factor', dtype=int), inplace=True\n",
    ")\n",
    "\n",
    "df_distract[:5]"
   ]
  },
  {
   "cell_type": "markdown",
   "metadata": {},
   "source": [
    "- The analysis of distract factors shows that compared to resident drivers, non-resident drivers in fatal crash event are more likely to be involved with disctract factors 93, 1, 12, 5, and 13, which are <b>inattention, looked but did not see, distracted by outside person, talking or listening to phone, and eating or drinking."
   ]
  },
  {
   "cell_type": "markdown",
   "metadata": {},
   "source": [
    "##### <b>2.4 Are there specific resident ZIP Codes that tend to produce higher-risk drivers that are involved in fatal crashes at a higher rate?</b>\n",
    "\n",
    "- We would first check if drivers with certain zip codes are more likely to be involved in fatal crash events.."
   ]
  },
  {
   "cell_type": "code",
   "execution_count": 392,
   "metadata": {},
   "outputs": [
    {
     "data": {
      "text/html": [
       "<div>\n",
       "<style scoped>\n",
       "    .dataframe tbody tr th:only-of-type {\n",
       "        vertical-align: middle;\n",
       "    }\n",
       "\n",
       "    .dataframe tbody tr th {\n",
       "        vertical-align: top;\n",
       "    }\n",
       "\n",
       "    .dataframe thead th {\n",
       "        text-align: right;\n",
       "    }\n",
       "</style>\n",
       "<table border=\"1\" class=\"dataframe\">\n",
       "  <thead>\n",
       "    <tr style=\"text-align: right;\">\n",
       "      <th></th>\n",
       "      <th>case_count</th>\n",
       "      <th>case_proportion</th>\n",
       "    </tr>\n",
       "  </thead>\n",
       "  <tbody>\n",
       "    <tr>\n",
       "      <th>count</th>\n",
       "      <td>693.000000</td>\n",
       "      <td>693.000000</td>\n",
       "    </tr>\n",
       "    <tr>\n",
       "      <th>mean</th>\n",
       "      <td>5.766234</td>\n",
       "      <td>0.001443</td>\n",
       "    </tr>\n",
       "    <tr>\n",
       "      <th>std</th>\n",
       "      <td>7.252280</td>\n",
       "      <td>0.001815</td>\n",
       "    </tr>\n",
       "    <tr>\n",
       "      <th>min</th>\n",
       "      <td>1.000000</td>\n",
       "      <td>0.000250</td>\n",
       "    </tr>\n",
       "    <tr>\n",
       "      <th>25%</th>\n",
       "      <td>1.000000</td>\n",
       "      <td>0.000250</td>\n",
       "    </tr>\n",
       "    <tr>\n",
       "      <th>50%</th>\n",
       "      <td>2.000000</td>\n",
       "      <td>0.000501</td>\n",
       "    </tr>\n",
       "    <tr>\n",
       "      <th>75%</th>\n",
       "      <td>8.000000</td>\n",
       "      <td>0.002002</td>\n",
       "    </tr>\n",
       "    <tr>\n",
       "      <th>max</th>\n",
       "      <td>47.000000</td>\n",
       "      <td>0.011762</td>\n",
       "    </tr>\n",
       "  </tbody>\n",
       "</table>\n",
       "</div>"
      ],
      "text/plain": [
       "       case_count  case_proportion\n",
       "count  693.000000       693.000000\n",
       "mean     5.766234         0.001443\n",
       "std      7.252280         0.001815\n",
       "min      1.000000         0.000250\n",
       "25%      1.000000         0.000250\n",
       "50%      2.000000         0.000501\n",
       "75%      8.000000         0.002002\n",
       "max     47.000000         0.011762"
      ]
     },
     "execution_count": 392,
     "metadata": {},
     "output_type": "execute_result"
    }
   ],
   "source": [
    "df_data_by_zip = df_data_main[df_data_main.is_driver == True].groupby('dzip').agg(\n",
    "    case_count=pd.NamedAgg(column='par', aggfunc=len),\n",
    "    case_proportion=pd.NamedAgg(column='par', aggfunc=lambda c: len(c) / len(df_data_main.index))\n",
    ")\n",
    "df_data_by_zip.sort_values(ascending=False, inplace=True, by='case_proportion')\n",
    "\n",
    "df_data_by_zip.describe()"
   ]
  },
  {
   "cell_type": "code",
   "execution_count": 393,
   "metadata": {},
   "outputs": [
    {
     "data": {
      "text/plain": [
       "Index(['99301', '98444', '98387', '98003', '98951', '98837', '98404', '98391',\n",
       "       '98258', '98901', '98223', '98584', '99206', '98022'],\n",
       "      dtype='object', name='dzip')"
      ]
     },
     "execution_count": 393,
     "metadata": {},
     "output_type": "execute_result"
    }
   ],
   "source": [
    " #  filtering mean + 3 * sigma based on case count\n",
    "df_highrisk_dzip = df_data_by_zip[\n",
    "        df_data_by_zip.case_count >= df_data_by_zip.case_count.mean() + 3 * df_data_by_zip.case_count.std()\t\n",
    "    ]            \n",
    "\n",
    "df_highrisk_dzip.index"
   ]
  },
  {
   "cell_type": "code",
   "execution_count": 394,
   "metadata": {},
   "outputs": [
    {
     "data": {
      "text/html": [
       "<div>\n",
       "<style scoped>\n",
       "    .dataframe tbody tr th:only-of-type {\n",
       "        vertical-align: middle;\n",
       "    }\n",
       "\n",
       "    .dataframe tbody tr th {\n",
       "        vertical-align: top;\n",
       "    }\n",
       "\n",
       "    .dataframe thead th {\n",
       "        text-align: right;\n",
       "    }\n",
       "</style>\n",
       "<table border=\"1\" class=\"dataframe\">\n",
       "  <thead>\n",
       "    <tr style=\"text-align: right;\">\n",
       "      <th></th>\n",
       "      <th>case_count</th>\n",
       "      <th>case_proportion</th>\n",
       "    </tr>\n",
       "    <tr>\n",
       "      <th>dzip</th>\n",
       "      <th></th>\n",
       "      <th></th>\n",
       "    </tr>\n",
       "  </thead>\n",
       "  <tbody>\n",
       "    <tr>\n",
       "      <th>99301</th>\n",
       "      <td>47</td>\n",
       "      <td>0.011762</td>\n",
       "    </tr>\n",
       "    <tr>\n",
       "      <th>98444</th>\n",
       "      <td>43</td>\n",
       "      <td>0.010761</td>\n",
       "    </tr>\n",
       "    <tr>\n",
       "      <th>98387</th>\n",
       "      <td>35</td>\n",
       "      <td>0.008759</td>\n",
       "    </tr>\n",
       "    <tr>\n",
       "      <th>98003</th>\n",
       "      <td>32</td>\n",
       "      <td>0.008008</td>\n",
       "    </tr>\n",
       "    <tr>\n",
       "      <th>98951</th>\n",
       "      <td>32</td>\n",
       "      <td>0.008008</td>\n",
       "    </tr>\n",
       "  </tbody>\n",
       "</table>\n",
       "</div>"
      ],
      "text/plain": [
       "       case_count  case_proportion\n",
       "dzip                              \n",
       "99301          47         0.011762\n",
       "98444          43         0.010761\n",
       "98387          35         0.008759\n",
       "98003          32         0.008008\n",
       "98951          32         0.008008"
      ]
     },
     "execution_count": 394,
     "metadata": {},
     "output_type": "execute_result"
    }
   ],
   "source": [
    "df_highrisk_dzip.head()"
   ]
  },
  {
   "cell_type": "code",
   "execution_count": 395,
   "metadata": {},
   "outputs": [
    {
     "data": {
      "text/plain": [
       "<AxesSubplot:ylabel='case_count'>"
      ]
     },
     "execution_count": 395,
     "metadata": {},
     "output_type": "execute_result"
    },
    {
     "data": {
      "image/png": "[encoded data removed]",
      "text/plain": [
       "<Figure size 640x480 with 1 Axes>"
      ]
     },
     "metadata": {},
     "output_type": "display_data"
    }
   ],
   "source": [
    "sns.boxplot(y=df_data_by_zip.case_count)"
   ]
  },
  {
   "cell_type": "code",
   "execution_count": 396,
   "metadata": {},
   "outputs": [
    {
     "data": {
      "text/plain": [
       "<AxesSubplot:xlabel='case_count', ylabel='Count'>"
      ]
     },
     "execution_count": 396,
     "metadata": {},
     "output_type": "execute_result"
    },
    {
     "data": {
      "image/png": "[encoded data removed]",
      "text/plain": [
       "<Figure size 640x480 with 1 Axes>"
      ]
     },
     "metadata": {},
     "output_type": "display_data"
    }
   ],
   "source": [
    "sns.histplot(x=df_data_by_zip.case_count, binwidth=1)"
   ]
  },
  {
   "cell_type": "markdown",
   "metadata": {},
   "source": [
    "- Both the boxplot and histogram suggest that the distribution of case proportion across zipcodes follows Pareto distribution. This implies that the few areas account for most of the risky drivers. \n",
    "- We conclude that <b>there are specific zip codes that produce risky drivers at a significantly higher rate</b>.\n",
    "- The high-risk zip codes are: <b>'98444', '98584', '99301', '98404', '98003', '98902', '98022', '98901',\n",
    "       '98387', '98391', '98837'</b>."
   ]
  },
  {
   "cell_type": "code",
   "execution_count": 397,
   "metadata": {},
   "outputs": [
    {
     "data": {
      "text/html": [
       "<div>\n",
       "<style scoped>\n",
       "    .dataframe tbody tr th:only-of-type {\n",
       "        vertical-align: middle;\n",
       "    }\n",
       "\n",
       "    .dataframe tbody tr th {\n",
       "        vertical-align: top;\n",
       "    }\n",
       "\n",
       "    .dataframe thead th {\n",
       "        text-align: right;\n",
       "    }\n",
       "</style>\n",
       "<table border=\"1\" class=\"dataframe\">\n",
       "  <thead>\n",
       "    <tr style=\"text-align: right;\">\n",
       "      <th></th>\n",
       "      <th>ZIP</th>\n",
       "      <th>LAT</th>\n",
       "      <th>LNG</th>\n",
       "    </tr>\n",
       "  </thead>\n",
       "  <tbody>\n",
       "    <tr>\n",
       "      <th>0</th>\n",
       "      <td>10001</td>\n",
       "      <td>40.750633</td>\n",
       "      <td>-73.997177</td>\n",
       "    </tr>\n",
       "    <tr>\n",
       "      <th>1</th>\n",
       "      <td>10002</td>\n",
       "      <td>40.715775</td>\n",
       "      <td>-73.986212</td>\n",
       "    </tr>\n",
       "    <tr>\n",
       "      <th>2</th>\n",
       "      <td>10003</td>\n",
       "      <td>40.731829</td>\n",
       "      <td>-73.989181</td>\n",
       "    </tr>\n",
       "    <tr>\n",
       "      <th>3</th>\n",
       "      <td>10004</td>\n",
       "      <td>40.688630</td>\n",
       "      <td>-74.018244</td>\n",
       "    </tr>\n",
       "    <tr>\n",
       "      <th>4</th>\n",
       "      <td>10005</td>\n",
       "      <td>40.706027</td>\n",
       "      <td>-74.008835</td>\n",
       "    </tr>\n",
       "  </tbody>\n",
       "</table>\n",
       "</div>"
      ],
      "text/plain": [
       "     ZIP        LAT        LNG\n",
       "0  10001  40.750633 -73.997177\n",
       "1  10002  40.715775 -73.986212\n",
       "2  10003  40.731829 -73.989181\n",
       "3  10004  40.688630 -74.018244\n",
       "4  10005  40.706027 -74.008835"
      ]
     },
     "execution_count": 397,
     "metadata": {},
     "output_type": "execute_result"
    }
   ],
   "source": [
    "df_metadata_zipcode_lonlat.head()"
   ]
  },
  {
   "cell_type": "code",
   "execution_count": 398,
   "metadata": {},
   "outputs": [
    {
     "name": "stderr",
     "output_type": "stream",
     "text": [
      "C:\\Users\\Chaconne\\AppData\\Local\\Temp\\ipykernel_32928\\518014722.py:10: SettingWithCopyWarning:\n",
      "\n",
      "\n",
      "A value is trying to be set on a copy of a slice from a DataFrame.\n",
      "Try using .loc[row_indexer,col_indexer] = value instead\n",
      "\n",
      "See the caveats in the documentation: https://pandas.pydata.org/pandas-docs/stable/user_guide/indexing.html#returning-a-view-versus-a-copy\n",
      "\n",
      "C:\\Users\\Chaconne\\AppData\\Local\\Temp\\ipykernel_32928\\518014722.py:11: SettingWithCopyWarning:\n",
      "\n",
      "\n",
      "A value is trying to be set on a copy of a slice from a DataFrame.\n",
      "Try using .loc[row_indexer,col_indexer] = value instead\n",
      "\n",
      "See the caveats in the documentation: https://pandas.pydata.org/pandas-docs/stable/user_guide/indexing.html#returning-a-view-versus-a-copy\n",
      "\n"
     ]
    },
    {
     "data": {
      "text/html": [
       "<div>\n",
       "<style scoped>\n",
       "    .dataframe tbody tr th:only-of-type {\n",
       "        vertical-align: middle;\n",
       "    }\n",
       "\n",
       "    .dataframe tbody tr th {\n",
       "        vertical-align: top;\n",
       "    }\n",
       "\n",
       "    .dataframe thead th {\n",
       "        text-align: right;\n",
       "    }\n",
       "</style>\n",
       "<table border=\"1\" class=\"dataframe\">\n",
       "  <thead>\n",
       "    <tr style=\"text-align: right;\">\n",
       "      <th></th>\n",
       "      <th>case_count</th>\n",
       "      <th>case_proportion</th>\n",
       "      <th>lng</th>\n",
       "      <th>lat</th>\n",
       "    </tr>\n",
       "    <tr>\n",
       "      <th>dzip</th>\n",
       "      <th></th>\n",
       "      <th></th>\n",
       "      <th></th>\n",
       "      <th></th>\n",
       "    </tr>\n",
       "  </thead>\n",
       "  <tbody>\n",
       "    <tr>\n",
       "      <th>99301</th>\n",
       "      <td>47</td>\n",
       "      <td>0.011762</td>\n",
       "      <td>-118.953781</td>\n",
       "      <td>46.379233</td>\n",
       "    </tr>\n",
       "    <tr>\n",
       "      <th>98444</th>\n",
       "      <td>43</td>\n",
       "      <td>0.010761</td>\n",
       "      <td>-122.448831</td>\n",
       "      <td>47.153041</td>\n",
       "    </tr>\n",
       "    <tr>\n",
       "      <th>98387</th>\n",
       "      <td>35</td>\n",
       "      <td>0.008759</td>\n",
       "      <td>-122.388908</td>\n",
       "      <td>47.060925</td>\n",
       "    </tr>\n",
       "    <tr>\n",
       "      <th>98003</th>\n",
       "      <td>32</td>\n",
       "      <td>0.008008</td>\n",
       "      <td>-122.316969</td>\n",
       "      <td>47.304801</td>\n",
       "    </tr>\n",
       "    <tr>\n",
       "      <th>98951</th>\n",
       "      <td>32</td>\n",
       "      <td>0.008008</td>\n",
       "      <td>-120.513604</td>\n",
       "      <td>46.456028</td>\n",
       "    </tr>\n",
       "  </tbody>\n",
       "</table>\n",
       "</div>"
      ],
      "text/plain": [
       "       case_count  case_proportion         lng        lat\n",
       "dzip                                                     \n",
       "99301          47         0.011762 -118.953781  46.379233\n",
       "98444          43         0.010761 -122.448831  47.153041\n",
       "98387          35         0.008759 -122.388908  47.060925\n",
       "98003          32         0.008008 -122.316969  47.304801\n",
       "98951          32         0.008008 -120.513604  46.456028"
      ]
     },
     "execution_count": 398,
     "metadata": {},
     "output_type": "execute_result"
    }
   ],
   "source": [
    "map_zipcode_lonlat = {\n",
    "    str(k):(lon, lat) for k,lon,lat in zip(\n",
    "        df_metadata_zipcode_lonlat['ZIP'].values.astype(str), \n",
    "        df_metadata_zipcode_lonlat['LNG'].values, \n",
    "        df_metadata_zipcode_lonlat['LAT'].values,\n",
    "    )\n",
    "}\n",
    "\n",
    "\n",
    "df_highrisk_dzip['lng'] = df_highrisk_dzip.index.map(lambda z: map_zipcode_lonlat[z][0])\n",
    "df_highrisk_dzip['lat'] = df_highrisk_dzip.index.map(lambda z: map_zipcode_lonlat[z][1])\n",
    "\n",
    "df_highrisk_dzip.head()"
   ]
  },
  {
   "cell_type": "code",
   "execution_count": 416,
   "metadata": {},
   "outputs": [
    {
     "data": {
      "application/vnd.plotly.v1+json": {
       "config": {
        "plotlyServerURL": "https://plot.ly"
       },
       "data": [
        {
         "lat": [
          46.379233,
          47.153041,
          47.060925,
          47.304801,
          46.456028,
          47.149902,
          47.208981,
          47.177102,
          48.04417,
          46.722625,
          48.21712,
          47.238866,
          47.629296,
          47.216372
         ],
         "lon": [
          -118.953781,
          -122.448831,
          -122.388908,
          -122.316969,
          -120.513604,
          -119.305972,
          -122.411638,
          -122.166177,
          -122.077404,
          -120.406039,
          -121.95354,
          -123.145661,
          -117.254657,
          -121.912906
         ],
         "marker": {
          "opacity": 1,
          "size": 3,
          "symbol": "square"
         },
         "mode": "markers",
         "type": "scattermapbox"
        }
       ],
       "layout": {
        "mapbox": {
         "accesstoken": "pk.eyJ1IjoiY2hhY29ubmUiLCJhIjoiY2xhYm5zYWIyMDI0ZjN2bzF0aDFibTJncSJ9.PyW8zQZ-927g0cgYNIsgpg",
         "center": {
          "lat": 47.21131871428571,
          "lon": -121.23257764285712
         },
         "zoom": 4.7
        },
        "template": {
         "data": {
          "bar": [
           {
            "error_x": {
             "color": "#2a3f5f"
            },
            "error_y": {
             "color": "#2a3f5f"
            },
            "marker": {
             "line": {
              "color": "#E5ECF6",
              "width": 0.5
             },
             "pattern": {
              "fillmode": "overlay",
              "size": 10,
              "solidity": 0.2
             }
            },
            "type": "bar"
           }
          ],
          "barpolar": [
           {
            "marker": {
             "line": {
              "color": "#E5ECF6",
              "width": 0.5
             },
             "pattern": {
              "fillmode": "overlay",
              "size": 10,
              "solidity": 0.2
             }
            },
            "type": "barpolar"
           }
          ],
          "carpet": [
           {
            "aaxis": {
             "endlinecolor": "#2a3f5f",
             "gridcolor": "white",
             "linecolor": "white",
             "minorgridcolor": "white",
             "startlinecolor": "#2a3f5f"
            },
            "baxis": {
             "endlinecolor": "#2a3f5f",
             "gridcolor": "white",
             "linecolor": "white",
             "minorgridcolor": "white",
             "startlinecolor": "#2a3f5f"
            },
            "type": "carpet"
           }
          ],
          "choropleth": [
           {
            "colorbar": {
             "outlinewidth": 0,
             "ticks": ""
            },
            "type": "choropleth"
           }
          ],
          "contour": [
           {
            "colorbar": {
             "outlinewidth": 0,
             "ticks": ""
            },
            "colorscale": [
             [
              0,
              "#0d0887"
             ],
             [
              0.1111111111111111,
              "#46039f"
             ],
             [
              0.2222222222222222,
              "#7201a8"
             ],
             [
              0.3333333333333333,
              "#9c179e"
             ],
             [
              0.4444444444444444,
              "#bd3786"
             ],
             [
              0.5555555555555556,
              "#d8576b"
             ],
             [
              0.6666666666666666,
              "#ed7953"
             ],
             [
              0.7777777777777778,
              "#fb9f3a"
             ],
             [
              0.8888888888888888,
              "#fdca26"
             ],
             [
              1,
              "#f0f921"
             ]
            ],
            "type": "contour"
           }
          ],
          "contourcarpet": [
           {
            "colorbar": {
             "outlinewidth": 0,
             "ticks": ""
            },
            "type": "contourcarpet"
           }
          ],
          "heatmap": [
           {
            "colorbar": {
             "outlinewidth": 0,
             "ticks": ""
            },
            "colorscale": [
             [
              0,
              "#0d0887"
             ],
             [
              0.1111111111111111,
              "#46039f"
             ],
             [
              0.2222222222222222,
              "#7201a8"
             ],
             [
              0.3333333333333333,
              "#9c179e"
             ],
             [
              0.4444444444444444,
              "#bd3786"
             ],
             [
              0.5555555555555556,
              "#d8576b"
             ],
             [
              0.6666666666666666,
              "#ed7953"
             ],
             [
              0.7777777777777778,
              "#fb9f3a"
             ],
             [
              0.8888888888888888,
              "#fdca26"
             ],
             [
              1,
              "#f0f921"
             ]
            ],
            "type": "heatmap"
           }
          ],
          "heatmapgl": [
           {
            "colorbar": {
             "outlinewidth": 0,
             "ticks": ""
            },
            "colorscale": [
             [
              0,
              "#0d0887"
             ],
             [
              0.1111111111111111,
              "#46039f"
             ],
             [
              0.2222222222222222,
              "#7201a8"
             ],
             [
              0.3333333333333333,
              "#9c179e"
             ],
             [
              0.4444444444444444,
              "#bd3786"
             ],
             [
              0.5555555555555556,
              "#d8576b"
             ],
             [
              0.6666666666666666,
              "#ed7953"
             ],
             [
              0.7777777777777778,
              "#fb9f3a"
             ],
             [
              0.8888888888888888,
              "#fdca26"
             ],
             [
              1,
              "#f0f921"
             ]
            ],
            "type": "heatmapgl"
           }
          ],
          "histogram": [
           {
            "marker": {
             "pattern": {
              "fillmode": "overlay",
              "size": 10,
              "solidity": 0.2
             }
            },
            "type": "histogram"
           }
          ],
          "histogram2d": [
           {
            "colorbar": {
             "outlinewidth": 0,
             "ticks": ""
            },
            "colorscale": [
             [
              0,
              "#0d0887"
             ],
             [
              0.1111111111111111,
              "#46039f"
             ],
             [
              0.2222222222222222,
              "#7201a8"
             ],
             [
              0.3333333333333333,
              "#9c179e"
             ],
             [
              0.4444444444444444,
              "#bd3786"
             ],
             [
              0.5555555555555556,
              "#d8576b"
             ],
             [
              0.6666666666666666,
              "#ed7953"
             ],
             [
              0.7777777777777778,
              "#fb9f3a"
             ],
             [
              0.8888888888888888,
              "#fdca26"
             ],
             [
              1,
              "#f0f921"
             ]
            ],
            "type": "histogram2d"
           }
          ],
          "histogram2dcontour": [
           {
            "colorbar": {
             "outlinewidth": 0,
             "ticks": ""
            },
            "colorscale": [
             [
              0,
              "#0d0887"
             ],
             [
              0.1111111111111111,
              "#46039f"
             ],
             [
              0.2222222222222222,
              "#7201a8"
             ],
             [
              0.3333333333333333,
              "#9c179e"
             ],
             [
              0.4444444444444444,
              "#bd3786"
             ],
             [
              0.5555555555555556,
              "#d8576b"
             ],
             [
              0.6666666666666666,
              "#ed7953"
             ],
             [
              0.7777777777777778,
              "#fb9f3a"
             ],
             [
              0.8888888888888888,
              "#fdca26"
             ],
             [
              1,
              "#f0f921"
             ]
            ],
            "type": "histogram2dcontour"
           }
          ],
          "mesh3d": [
           {
            "colorbar": {
             "outlinewidth": 0,
             "ticks": ""
            },
            "type": "mesh3d"
           }
          ],
          "parcoords": [
           {
            "line": {
             "colorbar": {
              "outlinewidth": 0,
              "ticks": ""
             }
            },
            "type": "parcoords"
           }
          ],
          "pie": [
           {
            "automargin": true,
            "type": "pie"
           }
          ],
          "scatter": [
           {
            "fillpattern": {
             "fillmode": "overlay",
             "size": 10,
             "solidity": 0.2
            },
            "type": "scatter"
           }
          ],
          "scatter3d": [
           {
            "line": {
             "colorbar": {
              "outlinewidth": 0,
              "ticks": ""
             }
            },
            "marker": {
             "colorbar": {
              "outlinewidth": 0,
              "ticks": ""
             }
            },
            "type": "scatter3d"
           }
          ],
          "scattercarpet": [
           {
            "marker": {
             "colorbar": {
              "outlinewidth": 0,
              "ticks": ""
             }
            },
            "type": "scattercarpet"
           }
          ],
          "scattergeo": [
           {
            "marker": {
             "colorbar": {
              "outlinewidth": 0,
              "ticks": ""
             }
            },
            "type": "scattergeo"
           }
          ],
          "scattergl": [
           {
            "marker": {
             "colorbar": {
              "outlinewidth": 0,
              "ticks": ""
             }
            },
            "type": "scattergl"
           }
          ],
          "scattermapbox": [
           {
            "marker": {
             "colorbar": {
              "outlinewidth": 0,
              "ticks": ""
             }
            },
            "type": "scattermapbox"
           }
          ],
          "scatterpolar": [
           {
            "marker": {
             "colorbar": {
              "outlinewidth": 0,
              "ticks": ""
             }
            },
            "type": "scatterpolar"
           }
          ],
          "scatterpolargl": [
           {
            "marker": {
             "colorbar": {
              "outlinewidth": 0,
              "ticks": ""
             }
            },
            "type": "scatterpolargl"
           }
          ],
          "scatterternary": [
           {
            "marker": {
             "colorbar": {
              "outlinewidth": 0,
              "ticks": ""
             }
            },
            "type": "scatterternary"
           }
          ],
          "surface": [
           {
            "colorbar": {
             "outlinewidth": 0,
             "ticks": ""
            },
            "colorscale": [
             [
              0,
              "#0d0887"
             ],
             [
              0.1111111111111111,
              "#46039f"
             ],
             [
              0.2222222222222222,
              "#7201a8"
             ],
             [
              0.3333333333333333,
              "#9c179e"
             ],
             [
              0.4444444444444444,
              "#bd3786"
             ],
             [
              0.5555555555555556,
              "#d8576b"
             ],
             [
              0.6666666666666666,
              "#ed7953"
             ],
             [
              0.7777777777777778,
              "#fb9f3a"
             ],
             [
              0.8888888888888888,
              "#fdca26"
             ],
             [
              1,
              "#f0f921"
             ]
            ],
            "type": "surface"
           }
          ],
          "table": [
           {
            "cells": {
             "fill": {
              "color": "#EBF0F8"
             },
             "line": {
              "color": "white"
             }
            },
            "header": {
             "fill": {
              "color": "#C8D4E3"
             },
             "line": {
              "color": "white"
             }
            },
            "type": "table"
           }
          ]
         },
         "layout": {
          "annotationdefaults": {
           "arrowcolor": "#2a3f5f",
           "arrowhead": 0,
           "arrowwidth": 1
          },
          "autotypenumbers": "strict",
          "coloraxis": {
           "colorbar": {
            "outlinewidth": 0,
            "ticks": ""
           }
          },
          "colorscale": {
           "diverging": [
            [
             0,
             "#8e0152"
            ],
            [
             0.1,
             "#c51b7d"
            ],
            [
             0.2,
             "#de77ae"
            ],
            [
             0.3,
             "#f1b6da"
            ],
            [
             0.4,
             "#fde0ef"
            ],
            [
             0.5,
             "#f7f7f7"
            ],
            [
             0.6,
             "#e6f5d0"
            ],
            [
             0.7,
             "#b8e186"
            ],
            [
             0.8,
             "#7fbc41"
            ],
            [
             0.9,
             "#4d9221"
            ],
            [
             1,
             "#276419"
            ]
           ],
           "sequential": [
            [
             0,
             "#0d0887"
            ],
            [
             0.1111111111111111,
             "#46039f"
            ],
            [
             0.2222222222222222,
             "#7201a8"
            ],
            [
             0.3333333333333333,
             "#9c179e"
            ],
            [
             0.4444444444444444,
             "#bd3786"
            ],
            [
             0.5555555555555556,
             "#d8576b"
            ],
            [
             0.6666666666666666,
             "#ed7953"
            ],
            [
             0.7777777777777778,
             "#fb9f3a"
            ],
            [
             0.8888888888888888,
             "#fdca26"
            ],
            [
             1,
             "#f0f921"
            ]
           ],
           "sequentialminus": [
            [
             0,
             "#0d0887"
            ],
            [
             0.1111111111111111,
             "#46039f"
            ],
            [
             0.2222222222222222,
             "#7201a8"
            ],
            [
             0.3333333333333333,
             "#9c179e"
            ],
            [
             0.4444444444444444,
             "#bd3786"
            ],
            [
             0.5555555555555556,
             "#d8576b"
            ],
            [
             0.6666666666666666,
             "#ed7953"
            ],
            [
             0.7777777777777778,
             "#fb9f3a"
            ],
            [
             0.8888888888888888,
             "#fdca26"
            ],
            [
             1,
             "#f0f921"
            ]
           ]
          },
          "colorway": [
           "#636efa",
           "#EF553B",
           "#00cc96",
           "#ab63fa",
           "#FFA15A",
           "#19d3f3",
           "#FF6692",
           "#B6E880",
           "#FF97FF",
           "#FECB52"
          ],
          "font": {
           "color": "#2a3f5f"
          },
          "geo": {
           "bgcolor": "white",
           "lakecolor": "white",
           "landcolor": "#E5ECF6",
           "showlakes": true,
           "showland": true,
           "subunitcolor": "white"
          },
          "hoverlabel": {
           "align": "left"
          },
          "hovermode": "closest",
          "mapbox": {
           "style": "light"
          },
          "paper_bgcolor": "white",
          "plot_bgcolor": "#E5ECF6",
          "polar": {
           "angularaxis": {
            "gridcolor": "white",
            "linecolor": "white",
            "ticks": ""
           },
           "bgcolor": "#E5ECF6",
           "radialaxis": {
            "gridcolor": "white",
            "linecolor": "white",
            "ticks": ""
           }
          },
          "scene": {
           "xaxis": {
            "backgroundcolor": "#E5ECF6",
            "gridcolor": "white",
            "gridwidth": 2,
            "linecolor": "white",
            "showbackground": true,
            "ticks": "",
            "zerolinecolor": "white"
           },
           "yaxis": {
            "backgroundcolor": "#E5ECF6",
            "gridcolor": "white",
            "gridwidth": 2,
            "linecolor": "white",
            "showbackground": true,
            "ticks": "",
            "zerolinecolor": "white"
           },
           "zaxis": {
            "backgroundcolor": "#E5ECF6",
            "gridcolor": "white",
            "gridwidth": 2,
            "linecolor": "white",
            "showbackground": true,
            "ticks": "",
            "zerolinecolor": "white"
           }
          },
          "shapedefaults": {
           "line": {
            "color": "#2a3f5f"
           }
          },
          "ternary": {
           "aaxis": {
            "gridcolor": "white",
            "linecolor": "white",
            "ticks": ""
           },
           "baxis": {
            "gridcolor": "white",
            "linecolor": "white",
            "ticks": ""
           },
           "bgcolor": "#E5ECF6",
           "caxis": {
            "gridcolor": "white",
            "linecolor": "white",
            "ticks": ""
           }
          },
          "title": {
           "x": 0.05
          },
          "xaxis": {
           "automargin": true,
           "gridcolor": "white",
           "linecolor": "white",
           "ticks": "",
           "title": {
            "standoff": 15
           },
           "zerolinecolor": "white",
           "zerolinewidth": 2
          },
          "yaxis": {
           "automargin": true,
           "gridcolor": "white",
           "linecolor": "white",
           "ticks": "",
           "title": {
            "standoff": 15
           },
           "zerolinecolor": "white",
           "zerolinewidth": 2
          }
         }
        },
        "title": {
         "text": "Crash event distribution"
        }
       }
      }
     },
     "metadata": {},
     "output_type": "display_data"
    }
   ],
   "source": [
    "mapbox_access_token = 'pk.eyJ1IjoiY2hhY29ubmUiLCJhIjoiY2xhYm5zYWIyMDI0ZjN2bzF0aDFibTJncSJ9.PyW8zQZ-927g0cgYNIsgpg'\n",
    "\n",
    "class_map_data = go.Scattermapbox(\n",
    "        lon = df_highrisk_dzip.lng,\n",
    "        lat = df_highrisk_dzip.lat,\n",
    "        # text = class_sample['Name'],\n",
    "        # hoverinfo='text',\n",
    "        mode = 'markers',\n",
    "        marker = dict(\n",
    "                    #color = df_highrisk_dzip.case_count.values,\n",
    "                    symbol = 'square',\n",
    "                    opacity = 1,\n",
    "                    size = 3,\n",
    "                )\n",
    ")\n",
    "\n",
    "mb = go.layout.Mapbox(\n",
    "            accesstoken=mapbox_access_token,\n",
    "            zoom=4.7,\n",
    "            center = {'lon':df_highrisk_dzip.lng.mean(), 'lat':df_highrisk_dzip.lat.mean()},\n",
    "        )\n",
    "\n",
    "class_map_layout = go.Layout(\n",
    "        title = 'Crash event distribution',\n",
    "        mapbox= mb\n",
    "    )\n",
    "\n",
    "class_map = go.Figure(data=class_map_data, layout=class_map_layout)\n",
    "class_map.show()"
   ]
  },
  {
   "cell_type": "markdown",
   "metadata": {},
   "source": [
    "Next, we want to analyze if fatal crash events are more likely to happen in certain areas."
   ]
  },
  {
   "cell_type": "code",
   "execution_count": 400,
   "metadata": {},
   "outputs": [],
   "source": [
    "evnt_count_by_event_zip = df_data_main.drop_duplicates(\n",
    "        subset='par'\n",
    "    ).groupby(\n",
    "        'event_zipcode'\n",
    "    ).agg(\n",
    "        'count'\n",
    "    ).par"
   ]
  },
  {
   "cell_type": "code",
   "execution_count": 401,
   "metadata": {},
   "outputs": [
    {
     "data": {
      "text/plain": [
       "<AxesSubplot:xlabel='par', ylabel='Count'>"
      ]
     },
     "execution_count": 401,
     "metadata": {},
     "output_type": "execute_result"
    },
    {
     "data": {
      "image/png": "[encoded data removed]",
      "text/plain": [
       "<Figure size 640x480 with 1 Axes>"
      ]
     },
     "metadata": {},
     "output_type": "display_data"
    }
   ],
   "source": [
    "sns.histplot(x=evnt_count_by_event_zip, binwidth=2, )"
   ]
  },
  {
   "cell_type": "code",
   "execution_count": 402,
   "metadata": {},
   "outputs": [
    {
     "data": {
      "text/plain": [
       "array(['98032', '98444', '98584', '98948', '98951', '99301'], dtype='<U5')"
      ]
     },
     "execution_count": 402,
     "metadata": {},
     "output_type": "execute_result"
    }
   ],
   "source": [
    "highrisk_event_zipcode =  evnt_count_by_event_zip[\n",
    "        evnt_count_by_event_zip > evnt_count_by_event_zip.mean() + 3 * evnt_count_by_event_zip.std()\n",
    "    ].index.values.astype(str)\n",
    "\n",
    "highrisk_event_zipcode"
   ]
  },
  {
   "cell_type": "code",
   "execution_count": 403,
   "metadata": {},
   "outputs": [
    {
     "data": {
      "text/plain": [
       "[]"
      ]
     },
     "execution_count": 403,
     "metadata": {},
     "output_type": "execute_result"
    }
   ],
   "source": [
    "overlap_zipcode = list(\n",
    "    filter(lambda zipcode: zipcode in df_highrisk_dzip, highrisk_event_zipcode)\n",
    ")\n",
    "overlap_zipcode"
   ]
  },
  {
   "cell_type": "markdown",
   "metadata": {},
   "source": [
    "##### <b>2.5 What are the population demographics of these high-risk driver producing ZIP Codes?</b>"
   ]
  },
  {
   "cell_type": "code",
   "execution_count": 404,
   "metadata": {},
   "outputs": [
    {
     "name": "stdout",
     "output_type": "stream",
     "text": [
      "(467, 303)\n"
     ]
    },
    {
     "data": {
      "text/html": [
       "<div>\n",
       "<style scoped>\n",
       "    .dataframe tbody tr th:only-of-type {\n",
       "        vertical-align: middle;\n",
       "    }\n",
       "\n",
       "    .dataframe tbody tr th {\n",
       "        vertical-align: top;\n",
       "    }\n",
       "\n",
       "    .dataframe thead th {\n",
       "        text-align: right;\n",
       "    }\n",
       "</style>\n",
       "<table border=\"1\" class=\"dataframe\">\n",
       "  <thead>\n",
       "    <tr style=\"text-align: right;\">\n",
       "      <th></th>\n",
       "      <th>year</th>\n",
       "      <th>case</th>\n",
       "      <th>par</th>\n",
       "      <th>repjur</th>\n",
       "      <th>crash_dt</th>\n",
       "      <th>crash_tm</th>\n",
       "      <th>accday</th>\n",
       "      <th>accmon</th>\n",
       "      <th>holiday</th>\n",
       "      <th>county</th>\n",
       "      <th>...</th>\n",
       "      <th>IntCoRoadName</th>\n",
       "      <th>IntCoMP</th>\n",
       "      <th>event_zipcode</th>\n",
       "      <th>is_resident</th>\n",
       "      <th>is_driver</th>\n",
       "      <th>crash_category</th>\n",
       "      <th>crashtype_eng</th>\n",
       "      <th>drf</th>\n",
       "      <th>distract</th>\n",
       "      <th>is_risky_dzip</th>\n",
       "    </tr>\n",
       "  </thead>\n",
       "  <tbody>\n",
       "    <tr>\n",
       "      <th>13</th>\n",
       "      <td>2017</td>\n",
       "      <td>10</td>\n",
       "      <td>E632128</td>\n",
       "      <td>8.0</td>\n",
       "      <td>01/08/2017</td>\n",
       "      <td>19:05</td>\n",
       "      <td>8</td>\n",
       "      <td>1</td>\n",
       "      <td>0.0</td>\n",
       "      <td>45</td>\n",
       "      <td>...</td>\n",
       "      <td>NaN</td>\n",
       "      <td>NaN</td>\n",
       "      <td>98546</td>\n",
       "      <td>False</td>\n",
       "      <td>True</td>\n",
       "      <td>SAME TRAFFICWAY, OPPOSITE DIRECTION</td>\n",
       "      <td>Lateral Move (Left/Right)</td>\n",
       "      <td>28</td>\n",
       "      <td>0</td>\n",
       "      <td>True</td>\n",
       "    </tr>\n",
       "    <tr>\n",
       "      <th>40</th>\n",
       "      <td>2017</td>\n",
       "      <td>26</td>\n",
       "      <td>E635844</td>\n",
       "      <td>1.0</td>\n",
       "      <td>01/23/2017</td>\n",
       "      <td>17:19</td>\n",
       "      <td>23</td>\n",
       "      <td>1</td>\n",
       "      <td>0.0</td>\n",
       "      <td>21</td>\n",
       "      <td>...</td>\n",
       "      <td>NaN</td>\n",
       "      <td>NaN</td>\n",
       "      <td>99344</td>\n",
       "      <td>False</td>\n",
       "      <td>True</td>\n",
       "      <td>SAME TRAFFICWAY, OPPOSITE DIRECTION</td>\n",
       "      <td>Lateral Move (Going Straight)</td>\n",
       "      <td>0</td>\n",
       "      <td>0</td>\n",
       "      <td>True</td>\n",
       "    </tr>\n",
       "    <tr>\n",
       "      <th>41</th>\n",
       "      <td>2017</td>\n",
       "      <td>26</td>\n",
       "      <td>E635844</td>\n",
       "      <td>1.0</td>\n",
       "      <td>01/23/2017</td>\n",
       "      <td>17:19</td>\n",
       "      <td>23</td>\n",
       "      <td>1</td>\n",
       "      <td>0.0</td>\n",
       "      <td>21</td>\n",
       "      <td>...</td>\n",
       "      <td>NaN</td>\n",
       "      <td>NaN</td>\n",
       "      <td>99344</td>\n",
       "      <td>False</td>\n",
       "      <td>True</td>\n",
       "      <td>MISCELLANEOUS</td>\n",
       "      <td>Other Crash Type</td>\n",
       "      <td>0</td>\n",
       "      <td>0</td>\n",
       "      <td>True</td>\n",
       "    </tr>\n",
       "    <tr>\n",
       "      <th>51</th>\n",
       "      <td>2017</td>\n",
       "      <td>34</td>\n",
       "      <td>E637343</td>\n",
       "      <td>1.0</td>\n",
       "      <td>01/24/2017</td>\n",
       "      <td>23:20</td>\n",
       "      <td>24</td>\n",
       "      <td>1</td>\n",
       "      <td>0.0</td>\n",
       "      <td>77</td>\n",
       "      <td>...</td>\n",
       "      <td>NaN</td>\n",
       "      <td>NaN</td>\n",
       "      <td>98951</td>\n",
       "      <td>False</td>\n",
       "      <td>True</td>\n",
       "      <td>SAME TRAFFICWAY, OPPOSITE DIRECTION</td>\n",
       "      <td>Specifics Other</td>\n",
       "      <td>0</td>\n",
       "      <td>0</td>\n",
       "      <td>True</td>\n",
       "    </tr>\n",
       "    <tr>\n",
       "      <th>59</th>\n",
       "      <td>2017</td>\n",
       "      <td>40</td>\n",
       "      <td>E633587</td>\n",
       "      <td>25.0</td>\n",
       "      <td>01/16/2017</td>\n",
       "      <td>15:51</td>\n",
       "      <td>16</td>\n",
       "      <td>1</td>\n",
       "      <td>0.0</td>\n",
       "      <td>33</td>\n",
       "      <td>...</td>\n",
       "      <td>NaN</td>\n",
       "      <td>NaN</td>\n",
       "      <td>98022</td>\n",
       "      <td>True</td>\n",
       "      <td>True</td>\n",
       "      <td>SINGLE DRIVER</td>\n",
       "      <td>Drive Off Road</td>\n",
       "      <td>0</td>\n",
       "      <td>0</td>\n",
       "      <td>True</td>\n",
       "    </tr>\n",
       "  </tbody>\n",
       "</table>\n",
       "<p>5 rows × 303 columns</p>\n",
       "</div>"
      ],
      "text/plain": [
       "    year  case      par  repjur    crash_dt crash_tm  accday  accmon  holiday  \\\n",
       "13  2017    10  E632128     8.0  01/08/2017    19:05       8       1      0.0   \n",
       "40  2017    26  E635844     1.0  01/23/2017    17:19      23       1      0.0   \n",
       "41  2017    26  E635844     1.0  01/23/2017    17:19      23       1      0.0   \n",
       "51  2017    34  E637343     1.0  01/24/2017    23:20      24       1      0.0   \n",
       "59  2017    40  E633587    25.0  01/16/2017    15:51      16       1      0.0   \n",
       "\n",
       "    county  ... IntCoRoadName  IntCoMP  event_zipcode  is_resident  is_driver  \\\n",
       "13      45  ...           NaN      NaN          98546        False       True   \n",
       "40      21  ...           NaN      NaN          99344        False       True   \n",
       "41      21  ...           NaN      NaN          99344        False       True   \n",
       "51      77  ...           NaN      NaN          98951        False       True   \n",
       "59      33  ...           NaN      NaN          98022         True       True   \n",
       "\n",
       "                         crash_category                   crashtype_eng  drf  \\\n",
       "13  SAME TRAFFICWAY, OPPOSITE DIRECTION      Lateral Move (Left/Right)    28   \n",
       "40  SAME TRAFFICWAY, OPPOSITE DIRECTION  Lateral Move (Going Straight)     0   \n",
       "41                        MISCELLANEOUS               Other Crash Type     0   \n",
       "51  SAME TRAFFICWAY, OPPOSITE DIRECTION                Specifics Other     0   \n",
       "59                        SINGLE DRIVER                 Drive Off Road     0   \n",
       "\n",
       "    distract  is_risky_dzip  \n",
       "13         0           True  \n",
       "40         0           True  \n",
       "41         0           True  \n",
       "51         0           True  \n",
       "59         0           True  \n",
       "\n",
       "[5 rows x 303 columns]"
      ]
     },
     "execution_count": 404,
     "metadata": {},
     "output_type": "execute_result"
    }
   ],
   "source": [
    "# filter records related to risky zipcodes\n",
    "\n",
    "# create a column to indicate whether the driver's community zipcode is considered high-risk\n",
    "df_data_main['is_risky_dzip'] = df_data_main.index.map(lambda index: df_data_main.loc[index, 'dzip'] in df_highrisk_dzip.index)\n",
    "\n",
    "df_data_risky_zipcode = df_data_main.loc[\n",
    "    df_data_main.index.map(lambda index: df_data_main.loc[index, 'is_risky_dzip'] and df_data_main.loc[index, 'is_driver']), :\n",
    "]\n",
    "\n",
    "print(df_data_risky_zipcode.shape)\n",
    "df_data_risky_zipcode.head()"
   ]
  },
  {
   "cell_type": "code",
   "execution_count": 405,
   "metadata": {},
   "outputs": [
    {
     "data": {
      "text/plain": [
       "Text(0.5, 1.0, 'age distribution')"
      ]
     },
     "execution_count": 405,
     "metadata": {},
     "output_type": "execute_result"
    },
    {
     "data": {
      "image/png": "[encoded data removed]",
      "text/plain": [
       "<Figure size 640x480 with 1 Axes>"
      ]
     },
     "metadata": {},
     "output_type": "display_data"
    }
   ],
   "source": [
    "sns.histplot(x=df_data_risky_zipcode.age, binwidth=10, ).set_title('age distribution')"
   ]
  },
  {
   "cell_type": "code",
   "execution_count": 406,
   "metadata": {},
   "outputs": [
    {
     "data": {
      "text/plain": [
       "count    467.000000\n",
       "mean      41.561028\n",
       "std       17.494758\n",
       "min       15.000000\n",
       "25%       27.000000\n",
       "50%       38.000000\n",
       "75%       54.000000\n",
       "max       89.000000\n",
       "Name: age, dtype: float64"
      ]
     },
     "execution_count": 406,
     "metadata": {},
     "output_type": "execute_result"
    }
   ],
   "source": [
    "df_data_risky_zipcode.age.describe()"
   ]
  },
  {
   "cell_type": "markdown",
   "metadata": {},
   "source": [
    "- As the histogram of age suggests, age distribution of risky drivers is significantly skewed to the right. <b>Drivers under the age of 36 account for 50% of the total crash events</b>."
   ]
  },
  {
   "cell_type": "code",
   "execution_count": 407,
   "metadata": {},
   "outputs": [
    {
     "name": "stderr",
     "output_type": "stream",
     "text": [
      "C:\\Users\\Chaconne\\AppData\\Local\\Temp\\ipykernel_32928\\731702045.py:1: SettingWithCopyWarning:\n",
      "\n",
      "\n",
      "A value is trying to be set on a copy of a slice from a DataFrame.\n",
      "Try using .loc[row_indexer,col_indexer] = value instead\n",
      "\n",
      "See the caveats in the documentation: https://pandas.pydata.org/pandas-docs/stable/user_guide/indexing.html#returning-a-view-versus-a-copy\n",
      "\n"
     ]
    },
    {
     "data": {
      "text/plain": [
       "<AxesSubplot:title={'center':'sex distribution'}, xlabel='sex'>"
      ]
     },
     "execution_count": 407,
     "metadata": {},
     "output_type": "execute_result"
    },
    {
     "data": {
      "image/png": "[encoded data removed]",
      "text/plain": [
       "<Figure size 640x480 with 1 Axes>"
      ]
     },
     "metadata": {},
     "output_type": "display_data"
    }
   ],
   "source": [
    "df_data_risky_zipcode.sex = df_data_risky_zipcode.sex.map(\n",
    "        lambda s: 3 if s != 1 and s != 2 else s\n",
    "    ).map(\n",
    "        {1: 'male', 2: 'female', 3: 'unknown'}\n",
    "    )\n",
    "\n",
    "df_data_risky_zipcode.groupby('sex').agg('count').par.plot(kind='bar', title = 'sex distribution', )"
   ]
  },
  {
   "cell_type": "markdown",
   "metadata": {},
   "source": [
    "- Most of the drivers who come from the high-risk zip code areas are male.\n",
    "- Lastly, we analyze the demographical features of these high-risk instances."
   ]
  },
  {
   "cell_type": "markdown",
   "metadata": {},
   "source": [
    "#### <b>3. Additional Questions</b>\n",
    "##### <b>3.1 Are there any patterns of the fatal crashes over time?</b>"
   ]
  },
  {
   "cell_type": "code",
   "execution_count": 408,
   "metadata": {},
   "outputs": [
    {
     "data": {
      "text/plain": [
       "0"
      ]
     },
     "execution_count": 408,
     "metadata": {},
     "output_type": "execute_result"
    }
   ],
   "source": [
    "datetime_pat = r'([0-9]{,2})/([0-9]{,2})/([0-9]{,4})'\n",
    "\n",
    "\n",
    "def get_day_mon_year(s:str):\n",
    "    res = re.match(pattern = datetime_pat, string= s)\n",
    "    if res:\n",
    "        return dt.datetime(month=int(res.group(1)), day = int(res.group(2)), year= int(res.group(3)))\n",
    "    else:\n",
    "        raise Exception(s + '\\t is not in correct format!')\n",
    "\n",
    "df_data_main.crash_dt.map(lambda v : not re.match(pattern = datetime_pat, string = v)).sum()"
   ]
  },
  {
   "cell_type": "code",
   "execution_count": 409,
   "metadata": {},
   "outputs": [],
   "source": [
    "df_data_main.crash_dt = df_data_main.crash_dt.map(get_day_mon_year)"
   ]
  },
  {
   "cell_type": "code",
   "execution_count": 410,
   "metadata": {},
   "outputs": [
    {
     "name": "stderr",
     "output_type": "stream",
     "text": [
      "C:\\Users\\Chaconne\\AppData\\Local\\Temp\\ipykernel_32928\\84235327.py:10: UserWarning:\n",
      "\n",
      "The palette list has more values (10) than needed (5), which may not be intended.\n",
      "\n"
     ]
    },
    {
     "data": {
      "text/plain": [
       "Text(0.5, 1.0, 'Monthly Count of Fatal Crashes')"
      ]
     },
     "execution_count": 410,
     "metadata": {},
     "output_type": "execute_result"
    },
    {
     "data": {
      "image/png": "[encoded data removed]",
      "text/plain": [
       "<Figure size 640x480 with 1 Axes>"
      ]
     },
     "metadata": {},
     "output_type": "display_data"
    }
   ],
   "source": [
    "df_event_count_monthly = df_data_main.drop_duplicates(\n",
    "    subset = 'par'\n",
    ").groupby(\n",
    "    ['year', 'accmon']\n",
    ").agg(\n",
    "    'count'\n",
    ")\n",
    "\n",
    "\n",
    "sns.lineplot(\n",
    "    data = df_event_count_monthly, x='accmon', y='par', hue = 'year', palette = sns.color_palette(),\n",
    ").set_title(\n",
    "    'Monthly Count of Fatal Crashes'\n",
    ")"
   ]
  },
  {
   "cell_type": "markdown",
   "metadata": {},
   "source": [
    "- Based on the line plot above it can be seen that <b>there are seasonality in the number of fatal crashes throughout a year</b>.\n",
    "- <b>Feburary was the month when there are fewest number of crashes in a year</b>.\n",
    "- <b>The monthly total of fatal crashes peaks in July or August</b>.\n",
    "- July and August are the months when temperature in Washington state reaches its yearly maximum and precipitation reaches its minimum. <b>People tend to go out in good weathers, which in turn contribute to the increase of crash accidents in these two months</b>. \n",
    "- The logic also explains why in Feburary there is very few crash accidents - because in Feburary the temperature in Washington state reaches yearly minimun while precipitation is very high. <b>Averse weather reduces people's willingess of travelling and going out, thereby reducing the number of crash events</b>."
   ]
  },
  {
   "cell_type": "markdown",
   "metadata": {},
   "source": [
    "#### <b>4. Conclusion</b>\n",
    "##### <b>Non-resident drivers are more likely to encounter fatal crash accidents</b>, because:\n",
    "- They may not be familiar with the road and environmental condition of the place where they are driving.\n",
    "- They are more likely to be inattentive, which results from their unfamiliarity with the surroundings.\n",
    "- They are more likely to be distracted, as the unfamiliar environment could be appealing to them.\n",
    "\n",
    "##### <b> Crash types feature long tail distribution</b>:\n",
    "- Few crash types account for most of the accidents. They are \n",
    "- To protect drivers and pedestrians, relevant parties can focus on the few types which account for most of the crashes.\n"
   ]
  },
  {
   "cell_type": "markdown",
   "metadata": {},
   "source": [
    "##### <b>Output Cleaned Dataset for Visualization</b>"
   ]
  },
  {
   "cell_type": "code",
   "execution_count": 411,
   "metadata": {},
   "outputs": [
    {
     "name": "stderr",
     "output_type": "stream",
     "text": [
      "C:\\Users\\Chaconne\\AppData\\Local\\Temp\\ipykernel_32928\\1283226902.py:3: FutureWarning:\n",
      "\n",
      "elementwise comparison failed; returning scalar instead, but in the future will perform elementwise comparison\n",
      "\n"
     ]
    }
   ],
   "source": [
    "df_data_main.to_csv(dir + 'output/data_vis.csv')\n",
    "\n",
    "df_data_main.loc[df_data_main.dzip.map(lambda dz: dz in df_highrisk_dzip.values), :].to_csv(dir + 'output/data_highrisk_area.csv')"
   ]
  }
 ],
 "metadata": {
  "kernelspec": {
   "display_name": "Python 3.10.4 64-bit",
   "language": "python",
   "name": "python3"
  },
  "language_info": {
   "codemirror_mode": {
    "name": "ipython",
    "version": 3
   },
   "file_extension": ".py",
   "mimetype": "text/x-python",
   "name": "python",
   "nbconvert_exporter": "python",
   "pygments_lexer": "ipython3",
   "version": "3.10.4"
  },
  "orig_nbformat": 4,
  "vscode": {
   "interpreter": {
    "hash": "26de051ba29f2982a8de78e945f0abaf191376122a1563185a90213a26c5da77"
   }
  }
 },
 "nbformat": 4,
 "nbformat_minor": 2
}
