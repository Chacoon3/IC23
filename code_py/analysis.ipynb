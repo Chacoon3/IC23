{
 "cells": [
  {
   "cell_type": "markdown",
   "metadata": {},
   "source": [
    "### <b>Washington State Crash Event Analysis</b>\n",
    "#### --- by "
   ]
  },
  {
   "cell_type": "code",
   "execution_count": 588,
   "metadata": {},
   "outputs": [],
   "source": [
    "import pandas as pd\n",
    "import numpy as np\n",
    "import regex as re\n",
    "\n",
    "import time\n",
    "\n",
    "import os\n",
    "\n",
    "import seaborn as sns\n",
    "import matplotlib.pyplot as plt\n",
    "\n",
    "pd.set_option('display.max_rows', 9)\n"
   ]
  },
  {
   "cell_type": "markdown",
   "metadata": {},
   "source": [
    "#### <b>1. Explorative Data Analysis</b></br>\n",
    "##### <b>1.1 Introduction to Datasets</b></br>\n",
    "- <b>df_data_main</b>: The original data set with an expanded column that stores the zipcode of the place where the accident occured</br>\n",
    "- <b> df_metadata_crashtype</b>: Derived from the table 6 of the original dataset. This dataframe contains all the metainfo about a category of crashtype</br>"
   ]
  },
  {
   "cell_type": "code",
   "execution_count": 589,
   "metadata": {},
   "outputs": [
    {
     "name": "stderr",
     "output_type": "stream",
     "text": [
      "C:\\Users\\Chaconne\\AppData\\Local\\Temp\\ipykernel_28764\\2748844850.py:3: DtypeWarning: Columns (22,23,24,302,304) have mixed types. Specify dtype option on import or set low_memory=False.\n",
      "  df_data_main = pd.read_csv(\n"
     ]
    },
    {
     "data": {
      "text/plain": [
       "(4132, 306)"
      ]
     },
     "execution_count": 589,
     "metadata": {},
     "output_type": "execute_result"
    }
   ],
   "source": [
    "dir = os.path.abspath(os.path.dirname(os.getcwd())) + '/data/'\n",
    "\n",
    "df_data_main = pd.read_csv(\n",
    "    dir + '/output/data_with_zipcode.csv').drop(axis=1, labels='Unnamed: 0')\n",
    "df_data_main.event_zipcode = df_data_main.event_zipcode.astype(\n",
    "    str)   # convert the default float type values into str\n",
    "\n",
    "df_metadata_crashtype = pd.read_csv(\n",
    "    dir + '/output/crash_type.csv').set_index(keys='type_index')\n",
    "\n",
    "df_metadata_driver_factor = pd.read_csv(\n",
    "    dir + '/output/driver_behavioral_factors.csv').drop(labels='Unnamed: 0', axis=1)\n",
    "\n",
    "\n",
    "df_metadata_race = pd.read_csv(dir + '/output/race_code.csv')\n",
    "\n",
    "df_data_main.shape"
   ]
  },
  {
   "cell_type": "markdown",
   "metadata": {},
   "source": [
    "##### <b>1.2 Data Cleaning</b>"
   ]
  },
  {
   "cell_type": "code",
   "execution_count": 590,
   "metadata": {},
   "outputs": [
    {
     "data": {
      "text/plain": [
       "(4132, 306)"
      ]
     },
     "execution_count": 590,
     "metadata": {},
     "output_type": "execute_result"
    }
   ],
   "source": [
    "# drop rows which do not have a valid event zipcode\n",
    "\n",
    "has_no_zipcode = df_data_main.event_zipcode.map(lambda v: v == 'nan')\n",
    "df_data_main = df_data_main[df_data_main.event_zipcode != 'nan']\n",
    "df_data_main.shape"
   ]
  },
  {
   "cell_type": "code",
   "execution_count": 591,
   "metadata": {},
   "outputs": [
    {
     "data": {
      "text/plain": [
       "(3996, 306)"
      ]
     },
     "execution_count": 591,
     "metadata": {},
     "output_type": "execute_result"
    }
   ],
   "source": [
    "# drop rows which do not have a person zipcode\n",
    "\n",
    "df_data_main.dzip = df_data_main.dzip.map(\n",
    "    lambda n: 0 if n == 0 else 0 if pd.isna(n) else int(n)\n",
    ")\n",
    "\n",
    "# valid zip codes are all 5 digit so we filter out those with less than 5 digits\n",
    "df_data_main = df_data_main[(df_data_main.dzip > 10000) & (df_data_main.dzip <= 99950)]\n",
    "df_data_main.dzip = df_data_main.dzip.astype(str)\n",
    "df_data_main.shape"
   ]
  },
  {
   "cell_type": "code",
   "execution_count": 592,
   "metadata": {},
   "outputs": [],
   "source": [
    "# clean the age column\n",
    "\n",
    "age_filter = filter(lambda v: v > 0 and v < 100, df_data_main.age)\n",
    "age_mean = round(np.mean(list(age_filter), dtype=float), 0)\n",
    "\n",
    "df_data_main.age = df_data_main.age.map(\n",
    "    lambda v: age_mean if v < 0 or v >= 100 else v\n",
    ")"
   ]
  },
  {
   "cell_type": "markdown",
   "metadata": {},
   "source": [
    "#### <b> 2. Solutions\n",
    "##### <b>2.1 Among drivers involved in fatal crashes, what proportion are involved in crashes in communities where they live?</b>"
   ]
  },
  {
   "cell_type": "code",
   "execution_count": 593,
   "metadata": {},
   "outputs": [
    {
     "name": "stdout",
     "output_type": "stream",
     "text": [
      "25.4780% of the drivers are from the community where the accident occured\n"
     ]
    },
    {
     "data": {
      "text/plain": [
       "<AxesSubplot:title={'center':'proportion of non-resident vs. resident crashes'}>"
      ]
     },
     "execution_count": 593,
     "metadata": {},
     "output_type": "execute_result"
    },
    {
     "data": {
      "image/png": "[encoded data removed]",
      "text/plain": [
       "<Figure size 640x480 with 1 Axes>"
      ]
     },
     "metadata": {},
     "output_type": "display_data"
    }
   ],
   "source": [
    "df_data_main['is_resident'] = df_data_main.index.map(\n",
    "    lambda i: df_data_main.event_zipcode[i] == df_data_main.dzip[i]\n",
    ")\n",
    "\n",
    "df_data_main['is_driver'] = df_data_main.index.map(\n",
    "    lambda i: df_data_main.loc[i,\n",
    "                               'ptype'] == 1 and df_data_main.loc[i, 'vnumber'] == 1\n",
    ")\n",
    "\n",
    "prop = len(df_data_main[(df_data_main.is_resident == True) & (\n",
    "    df_data_main.is_driver == True)]) / float(len(df_data_main[df_data_main.is_driver == True]))\n",
    "\n",
    "print('{prop:.4f}% of the drivers are from the community where the accident occured'.format(\n",
    "    prop=prop * 100))\n",
    "\n",
    "pd.Series([1 - prop, prop, ], index=['non-resident', 'resident']).plot(kind = 'bar', title = 'proportion of non-resident vs. resident crashes')"
   ]
  },
  {
   "cell_type": "markdown",
   "metadata": {},
   "source": [
    "Based on our analysis, <b>25.478%</b> of the drivers are from the community where the accident occured."
   ]
  },
  {
   "cell_type": "markdown",
   "metadata": {},
   "source": [
    "##### <b>2.2 <b>2.3 Are there differences in the <u>crash types</u> in those crashes among “residents” versus those deemed to be not “from” the area?</b>\n",
    "- We will first take a look at the types of crashes among residents versus non-residents drivers. To that end, we load the metadata regarding crash types."
   ]
  },
  {
   "cell_type": "code",
   "execution_count": 594,
   "metadata": {},
   "outputs": [
    {
     "data": {
      "text/html": [
       "<div>\n",
       "<style scoped>\n",
       "    .dataframe tbody tr th:only-of-type {\n",
       "        vertical-align: middle;\n",
       "    }\n",
       "\n",
       "    .dataframe tbody tr th {\n",
       "        vertical-align: top;\n",
       "    }\n",
       "\n",
       "    .dataframe thead th {\n",
       "        text-align: right;\n",
       "    }\n",
       "</style>\n",
       "<table border=\"1\" class=\"dataframe\">\n",
       "  <thead>\n",
       "    <tr style=\"text-align: right;\">\n",
       "      <th></th>\n",
       "      <th>crash_type</th>\n",
       "      <th>category</th>\n",
       "    </tr>\n",
       "    <tr>\n",
       "      <th>type_index</th>\n",
       "      <th></th>\n",
       "      <th></th>\n",
       "    </tr>\n",
       "  </thead>\n",
       "  <tbody>\n",
       "    <tr>\n",
       "      <th>0</th>\n",
       "      <td>No Impact</td>\n",
       "      <td>NOT CATEGORIZED</td>\n",
       "    </tr>\n",
       "    <tr>\n",
       "      <th>1</th>\n",
       "      <td>Drive Off Road</td>\n",
       "      <td>SINGLE DRIVER</td>\n",
       "    </tr>\n",
       "    <tr>\n",
       "      <th>2</th>\n",
       "      <td>Control/Traction Loss</td>\n",
       "      <td>SINGLE DRIVER</td>\n",
       "    </tr>\n",
       "    <tr>\n",
       "      <th>3</th>\n",
       "      <td>Avoid Collision with Vehicle, Pedestrian, Animal</td>\n",
       "      <td>SINGLE DRIVER</td>\n",
       "    </tr>\n",
       "    <tr>\n",
       "      <th>4</th>\n",
       "      <td>Specifics Other</td>\n",
       "      <td>SINGLE DRIVER</td>\n",
       "    </tr>\n",
       "  </tbody>\n",
       "</table>\n",
       "</div>"
      ],
      "text/plain": [
       "                                                   crash_type         category\n",
       "type_index                                                                    \n",
       "0                                                  No Impact   NOT CATEGORIZED\n",
       "1                                             Drive Off Road     SINGLE DRIVER\n",
       "2                                      Control/Traction Loss     SINGLE DRIVER\n",
       "3           Avoid Collision with Vehicle, Pedestrian, Animal     SINGLE DRIVER\n",
       "4                                            Specifics Other     SINGLE DRIVER"
      ]
     },
     "execution_count": 594,
     "metadata": {},
     "output_type": "execute_result"
    }
   ],
   "source": [
    "# this dataframe stores the meta info of the variable crashtype\n",
    "df_metadata_crashtype.head()"
   ]
  },
  {
   "cell_type": "code",
   "execution_count": 595,
   "metadata": {},
   "outputs": [],
   "source": [
    "map_crashtype_category = {  # maps a crashtype to its category\n",
    "    k: v for k, v in zip(df_metadata_crashtype.index, df_metadata_crashtype.category)\n",
    "}\n",
    "\n",
    "map_crashtype_eng = {   # maps a crashtype index to its actual meaning\n",
    "    k: v for k, v in zip(df_metadata_crashtype.index, df_metadata_crashtype['crash_type'])\n",
    "}\n",
    "\n",
    "df_data_main['crash_category'] = df_data_main.crashtype.map(map_crashtype_category)\n",
    "df_data_main['crashtype_eng'] = df_data_main.crashtype.map(map_crashtype_eng)"
   ]
  },
  {
   "cell_type": "code",
   "execution_count": 596,
   "metadata": {},
   "outputs": [
    {
     "data": {
      "text/html": [
       "<div>\n",
       "<style scoped>\n",
       "    .dataframe tbody tr th:only-of-type {\n",
       "        vertical-align: middle;\n",
       "    }\n",
       "\n",
       "    .dataframe tbody tr th {\n",
       "        vertical-align: top;\n",
       "    }\n",
       "\n",
       "    .dataframe thead th {\n",
       "        text-align: right;\n",
       "    }\n",
       "</style>\n",
       "<table border=\"1\" class=\"dataframe\">\n",
       "  <thead>\n",
       "    <tr style=\"text-align: right;\">\n",
       "      <th></th>\n",
       "      <th>crashtype</th>\n",
       "      <th>is_resident</th>\n",
       "      <th>case_count</th>\n",
       "      <th>case_proportion</th>\n",
       "    </tr>\n",
       "  </thead>\n",
       "  <tbody>\n",
       "    <tr>\n",
       "      <th>0</th>\n",
       "      <td>0</td>\n",
       "      <td>False</td>\n",
       "      <td>18</td>\n",
       "      <td>0.005958</td>\n",
       "    </tr>\n",
       "    <tr>\n",
       "      <th>1</th>\n",
       "      <td>0</td>\n",
       "      <td>True</td>\n",
       "      <td>4</td>\n",
       "      <td>0.004103</td>\n",
       "    </tr>\n",
       "    <tr>\n",
       "      <th>2</th>\n",
       "      <td>1</td>\n",
       "      <td>False</td>\n",
       "      <td>241</td>\n",
       "      <td>0.079775</td>\n",
       "    </tr>\n",
       "    <tr>\n",
       "      <th>3</th>\n",
       "      <td>1</td>\n",
       "      <td>True</td>\n",
       "      <td>95</td>\n",
       "      <td>0.097436</td>\n",
       "    </tr>\n",
       "    <tr>\n",
       "      <th>...</th>\n",
       "      <td>...</td>\n",
       "      <td>...</td>\n",
       "      <td>...</td>\n",
       "      <td>...</td>\n",
       "    </tr>\n",
       "    <tr>\n",
       "      <th>100</th>\n",
       "      <td>98</td>\n",
       "      <td>False</td>\n",
       "      <td>555</td>\n",
       "      <td>0.183714</td>\n",
       "    </tr>\n",
       "    <tr>\n",
       "      <th>101</th>\n",
       "      <td>98</td>\n",
       "      <td>True</td>\n",
       "      <td>131</td>\n",
       "      <td>0.134359</td>\n",
       "    </tr>\n",
       "    <tr>\n",
       "      <th>102</th>\n",
       "      <td>99</td>\n",
       "      <td>False</td>\n",
       "      <td>1</td>\n",
       "      <td>0.000331</td>\n",
       "    </tr>\n",
       "    <tr>\n",
       "      <th>103</th>\n",
       "      <td>99</td>\n",
       "      <td>True</td>\n",
       "      <td>1</td>\n",
       "      <td>0.001026</td>\n",
       "    </tr>\n",
       "  </tbody>\n",
       "</table>\n",
       "<p>104 rows × 4 columns</p>\n",
       "</div>"
      ],
      "text/plain": [
       "     crashtype  is_resident  case_count  case_proportion\n",
       "0            0        False          18         0.005958\n",
       "1            0         True           4         0.004103\n",
       "2            1        False         241         0.079775\n",
       "3            1         True          95         0.097436\n",
       "..         ...          ...         ...              ...\n",
       "100         98        False         555         0.183714\n",
       "101         98         True         131         0.134359\n",
       "102         99        False           1         0.000331\n",
       "103         99         True           1         0.001026\n",
       "\n",
       "[104 rows x 4 columns]"
      ]
     },
     "execution_count": 596,
     "metadata": {},
     "output_type": "execute_result"
    }
   ],
   "source": [
    "df_data_crash = df_data_main.groupby(by=['crashtype', 'is_resident']).agg(\n",
    "    case_count=pd.NamedAgg(column='par', aggfunc=len),\n",
    ").reset_index()\n",
    "\n",
    "# temporary dataframe for calculating total by is_resident\n",
    "df_temp = df_data_main.groupby('is_resident').par.agg('count')\n",
    "# print(df_temp)\n",
    "non_resident_event_count = float(df_temp.iloc[0])\n",
    "resident_event_count = float(df_temp.iloc[1])\n",
    "del df_temp\n",
    "\n",
    "\n",
    "def get_case_proportion(case_index: int, crash_dataframe: pd.DataFrame) -> float:\n",
    "    is_resident = crash_dataframe.loc[case_index, 'is_resident']\n",
    "    case_count = crash_dataframe.loc[case_index, 'case_count']\n",
    "    if is_resident:\n",
    "        ratio = case_count / resident_event_count\n",
    "    else:\n",
    "        ratio = case_count / non_resident_event_count\n",
    "    return ratio\n",
    "\n",
    "\n",
    "df_data_crash['case_proportion'] = df_data_crash.index.map(\n",
    "    lambda i: get_case_proportion(i, df_data_crash))\n",
    "\n",
    "df_data_crash"
   ]
  },
  {
   "cell_type": "markdown",
   "metadata": {},
   "source": [
    "- The following pivot table compares the proportion of different crash categories among the resident and non-resident groups."
   ]
  },
  {
   "cell_type": "code",
   "execution_count": 597,
   "metadata": {},
   "outputs": [
    {
     "data": {
      "text/html": [
       "<div>\n",
       "<style scoped>\n",
       "    .dataframe tbody tr th:only-of-type {\n",
       "        vertical-align: middle;\n",
       "    }\n",
       "\n",
       "    .dataframe tbody tr th {\n",
       "        vertical-align: top;\n",
       "    }\n",
       "\n",
       "    .dataframe thead tr th {\n",
       "        text-align: left;\n",
       "    }\n",
       "\n",
       "    .dataframe thead tr:last-of-type th {\n",
       "        text-align: right;\n",
       "    }\n",
       "</style>\n",
       "<table border=\"1\" class=\"dataframe\">\n",
       "  <thead>\n",
       "    <tr>\n",
       "      <th></th>\n",
       "      <th colspan=\"2\" halign=\"left\">case_proportion</th>\n",
       "      <th>crashtype_eng</th>\n",
       "    </tr>\n",
       "    <tr>\n",
       "      <th>is_resident</th>\n",
       "      <th>False</th>\n",
       "      <th>True</th>\n",
       "      <th></th>\n",
       "    </tr>\n",
       "    <tr>\n",
       "      <th>crashtype</th>\n",
       "      <th></th>\n",
       "      <th></th>\n",
       "      <th></th>\n",
       "    </tr>\n",
       "  </thead>\n",
       "  <tbody>\n",
       "    <tr>\n",
       "      <th>98</th>\n",
       "      <td>0.183714</td>\n",
       "      <td>0.134359</td>\n",
       "      <td>Other Crash Type</td>\n",
       "    </tr>\n",
       "    <tr>\n",
       "      <th>50</th>\n",
       "      <td>0.068189</td>\n",
       "      <td>0.050256</td>\n",
       "      <td>Lateral Move (Left/Right)</td>\n",
       "    </tr>\n",
       "    <tr>\n",
       "      <th>28</th>\n",
       "      <td>0.008606</td>\n",
       "      <td>0.001026</td>\n",
       "      <td>Decelerating (Slowing)</td>\n",
       "    </tr>\n",
       "    <tr>\n",
       "      <th>25</th>\n",
       "      <td>0.016220</td>\n",
       "      <td>0.009231</td>\n",
       "      <td>Slower, Going Straight</td>\n",
       "    </tr>\n",
       "    <tr>\n",
       "      <th>52</th>\n",
       "      <td>0.013572</td>\n",
       "      <td>0.007179</td>\n",
       "      <td>Specifics Other</td>\n",
       "    </tr>\n",
       "  </tbody>\n",
       "</table>\n",
       "</div>"
      ],
      "text/plain": [
       "            case_proportion                         crashtype_eng\n",
       "is_resident           False      True                            \n",
       "crashtype                                                        \n",
       "98                 0.183714  0.134359           Other Crash Type \n",
       "50                 0.068189  0.050256  Lateral Move (Left/Right) \n",
       "28                 0.008606  0.001026     Decelerating (Slowing) \n",
       "25                 0.016220  0.009231     Slower, Going Straight \n",
       "52                 0.013572  0.007179            Specifics Other "
      ]
     },
     "execution_count": 597,
     "metadata": {},
     "output_type": "execute_result"
    }
   ],
   "source": [
    "df_crash_pivoted = df_data_crash.pivot(\n",
    "    index='crashtype', columns='is_resident', values=['case_proportion'])\n",
    "\n",
    "df_crash_pivoted['diff'] = df_crash_pivoted[(\n",
    "    'case_proportion', False)] - df_crash_pivoted[('case_proportion', True)]\n",
    "df_crash_pivoted.sort_values(by='diff', ascending=False, inplace=True)\n",
    "df_crash_pivoted.drop(axis=1, labels='diff', inplace=True)\n",
    "df_crash_pivoted = df_crash_pivoted.fillna(0)\n",
    "\n",
    "df_crash_pivoted['crashtype_eng'] = df_crash_pivoted.index.map(map_crashtype_eng)\n",
    "df_crash_pivoted[:5]"
   ]
  },
  {
   "cell_type": "code",
   "execution_count": 598,
   "metadata": {},
   "outputs": [
    {
     "data": {
      "text/plain": [
       "<AxesSubplot:xlabel='crashtype'>"
      ]
     },
     "execution_count": 598,
     "metadata": {},
     "output_type": "execute_result"
    },
    {
     "data": {
      "image/png": "[encoded data removed]",
      "text/plain": [
       "<Figure size 640x480 with 1 Axes>"
      ]
     },
     "metadata": {},
     "output_type": "display_data"
    }
   ],
   "source": [
    "df_crash_pivoted.case_proportion[:5].plot(kind = 'bar')"
   ]
  },
  {
   "cell_type": "markdown",
   "metadata": {},
   "source": [
    "- According to the pivot table, the largest difference of case proportion appears in the crash types<b>98, 50, 28, 25,52</b>, which are <b>Other Crash Type,  Lateral Move (Left/Right), Decelerating (Slowing), and Slower, Going Straight</b>.</br>\n",
    "- Filtering out <b>Other Crash Type</b> and <b>Specifics Other</b>, which represent uncategorized crash types, we then conclude that <b>Lateral Move, Decelerating, and Slower, Going Straight</b> are the most frequent crash types.\n",
    "\n",
    "##### <b>2.3 Are there differences in the <u>behavior factors</u> in those crashes among “residents” versus those deemed to be not “from” the area?"
   ]
  },
  {
   "cell_type": "code",
   "execution_count": 599,
   "metadata": {},
   "outputs": [
    {
     "data": {
      "text/html": [
       "<div>\n",
       "<style scoped>\n",
       "    .dataframe tbody tr th:only-of-type {\n",
       "        vertical-align: middle;\n",
       "    }\n",
       "\n",
       "    .dataframe tbody tr th {\n",
       "        vertical-align: top;\n",
       "    }\n",
       "\n",
       "    .dataframe thead th {\n",
       "        text-align: right;\n",
       "    }\n",
       "</style>\n",
       "<table border=\"1\" class=\"dataframe\">\n",
       "  <thead>\n",
       "    <tr style=\"text-align: right;\">\n",
       "      <th></th>\n",
       "      <th>factor_index</th>\n",
       "      <th>driver_factor</th>\n",
       "      <th>effect_start</th>\n",
       "      <th>effect_end</th>\n",
       "      <th>factor_category</th>\n",
       "    </tr>\n",
       "  </thead>\n",
       "  <tbody>\n",
       "    <tr>\n",
       "      <th>0</th>\n",
       "      <td>0</td>\n",
       "      <td>No factors identified for this driver</td>\n",
       "      <td>0</td>\n",
       "      <td>9999</td>\n",
       "      <td>default</td>\n",
       "    </tr>\n",
       "    <tr>\n",
       "      <th>1</th>\n",
       "      <td>4</td>\n",
       "      <td>Reaction to/Failure to take Drugs/Medication</td>\n",
       "      <td>0</td>\n",
       "      <td>9999</td>\n",
       "      <td>Physical/Mental Condition</td>\n",
       "    </tr>\n",
       "    <tr>\n",
       "      <th>2</th>\n",
       "      <td>6</td>\n",
       "      <td>Careless Driving</td>\n",
       "      <td>2012</td>\n",
       "      <td>9999</td>\n",
       "      <td>Physical/Mental Condition</td>\n",
       "    </tr>\n",
       "    <tr>\n",
       "      <th>3</th>\n",
       "      <td>8</td>\n",
       "      <td>Aggressive Driving Road Rage</td>\n",
       "      <td>2004</td>\n",
       "      <td>9999</td>\n",
       "      <td>Physical/Mental Condition</td>\n",
       "    </tr>\n",
       "    <tr>\n",
       "      <th>...</th>\n",
       "      <td>...</td>\n",
       "      <td>...</td>\n",
       "      <td>...</td>\n",
       "      <td>...</td>\n",
       "      <td>...</td>\n",
       "    </tr>\n",
       "    <tr>\n",
       "      <th>76</th>\n",
       "      <td>94</td>\n",
       "      <td>Emergency Medical Service Personnel</td>\n",
       "      <td>0</td>\n",
       "      <td>2019</td>\n",
       "      <td>Possible Distraction Inside Vehicle</td>\n",
       "    </tr>\n",
       "    <tr>\n",
       "      <th>77</th>\n",
       "      <td>95</td>\n",
       "      <td>Fire Personnel</td>\n",
       "      <td>0</td>\n",
       "      <td>2019</td>\n",
       "      <td>Possible Distraction Inside Vehicle</td>\n",
       "    </tr>\n",
       "    <tr>\n",
       "      <th>78</th>\n",
       "      <td>96</td>\n",
       "      <td>Tow Operator</td>\n",
       "      <td>0</td>\n",
       "      <td>2019</td>\n",
       "      <td>Possible Distraction Inside Vehicle</td>\n",
       "    </tr>\n",
       "    <tr>\n",
       "      <th>79</th>\n",
       "      <td>97</td>\n",
       "      <td>Transportation i.e. maintenance workers, safte...</td>\n",
       "      <td>0</td>\n",
       "      <td>2019</td>\n",
       "      <td>Possible Distraction Inside Vehicle</td>\n",
       "    </tr>\n",
       "  </tbody>\n",
       "</table>\n",
       "<p>80 rows × 5 columns</p>\n",
       "</div>"
      ],
      "text/plain": [
       "    factor_index                                      driver_factor  \\\n",
       "0              0              No factors identified for this driver   \n",
       "1              4      Reaction to/Failure to take Drugs/Medication    \n",
       "2              6                                  Careless Driving    \n",
       "3              8                     Aggressive Driving Road Rage     \n",
       "..           ...                                                ...   \n",
       "76            94               Emergency Medical Service Personnel    \n",
       "77            95                                    Fire Personnel    \n",
       "78            96                                      Tow Operator    \n",
       "79            97  Transportation i.e. maintenance workers, safte...   \n",
       "\n",
       "    effect_start  effect_end                      factor_category  \n",
       "0              0        9999                              default  \n",
       "1              0        9999            Physical/Mental Condition  \n",
       "2           2012        9999            Physical/Mental Condition  \n",
       "3           2004        9999            Physical/Mental Condition  \n",
       "..           ...         ...                                  ...  \n",
       "76             0        2019  Possible Distraction Inside Vehicle  \n",
       "77             0        2019  Possible Distraction Inside Vehicle  \n",
       "78             0        2019  Possible Distraction Inside Vehicle  \n",
       "79             0        2019  Possible Distraction Inside Vehicle  \n",
       "\n",
       "[80 rows x 5 columns]"
      ]
     },
     "execution_count": 599,
     "metadata": {},
     "output_type": "execute_result"
    }
   ],
   "source": [
    "df_metadata_driver_factor = df_metadata_driver_factor.loc[\n",
    "    df_metadata_driver_factor.effect_end >= df_data_main.year.min(), :\n",
    "]   # filter out factors that do not take effect during the timeframe of the dataset\n",
    "\n",
    "df_metadata_driver_factor = df_metadata_driver_factor.sort_values(\n",
    "    by='factor_index', ascending=True).reset_index(drop=True)\n",
    "df_metadata_driver_factor\n"
   ]
  },
  {
   "cell_type": "code",
   "execution_count": 600,
   "metadata": {},
   "outputs": [],
   "source": [
    "def sum_driver_factor(index: int, df: pd.DataFrame):\n",
    "    # first conerted to int to remove trailing decimal zero\n",
    "    joint = '|'.join(df.loc[index, 'drf1':'drf4'].astype(int).astype(str))\n",
    "    return re.sub(pattern=r'\\|0', string=joint, repl='')\n",
    "\n",
    "\n",
    "df_data_main.loc[:, 'drf1':'drf4'] = df_data_main.loc[:, 'drf1':'drf4'].fillna(0)     # in this case, na suggests no factor rather than the missing of value\n",
    "df_data_main['drf'] = df_data_main.index.map(lambda i:  sum_driver_factor(i, df_data_main))\n",
    "\n",
    "# drop the original component columns as we already acquired the summed up one\n",
    "df_data_main.drop(axis=1, labels=['drf1', 'drf2', 'drf3', 'drf4'], inplace=True)"
   ]
  },
  {
   "cell_type": "code",
   "execution_count": 601,
   "metadata": {},
   "outputs": [
    {
     "data": {
      "text/html": [
       "<div>\n",
       "<style scoped>\n",
       "    .dataframe tbody tr th:only-of-type {\n",
       "        vertical-align: middle;\n",
       "    }\n",
       "\n",
       "    .dataframe tbody tr th {\n",
       "        vertical-align: top;\n",
       "    }\n",
       "\n",
       "    .dataframe thead th {\n",
       "        text-align: right;\n",
       "    }\n",
       "</style>\n",
       "<table border=\"1\" class=\"dataframe\">\n",
       "  <thead>\n",
       "    <tr style=\"text-align: right;\">\n",
       "      <th></th>\n",
       "      <th>non-resident</th>\n",
       "      <th>resident</th>\n",
       "    </tr>\n",
       "    <tr>\n",
       "      <th>drf</th>\n",
       "      <th></th>\n",
       "      <th></th>\n",
       "    </tr>\n",
       "  </thead>\n",
       "  <tbody>\n",
       "    <tr>\n",
       "      <th>28</th>\n",
       "      <td>0.070527</td>\n",
       "      <td>0.059838</td>\n",
       "    </tr>\n",
       "    <tr>\n",
       "      <th>39</th>\n",
       "      <td>0.033970</td>\n",
       "      <td>0.025355</td>\n",
       "    </tr>\n",
       "    <tr>\n",
       "      <th>38</th>\n",
       "      <td>0.061792</td>\n",
       "      <td>0.055781</td>\n",
       "    </tr>\n",
       "    <tr>\n",
       "      <th>8</th>\n",
       "      <td>0.012617</td>\n",
       "      <td>0.010142</td>\n",
       "    </tr>\n",
       "  </tbody>\n",
       "</table>\n",
       "</div>"
      ],
      "text/plain": [
       "     non-resident  resident\n",
       "drf                        \n",
       "28       0.070527  0.059838\n",
       "39       0.033970  0.025355\n",
       "38       0.061792  0.055781\n",
       "8        0.012617  0.010142"
      ]
     },
     "execution_count": 601,
     "metadata": {},
     "output_type": "execute_result"
    }
   ],
   "source": [
    "def get_factor_levels(factor_col):\n",
    "    res = []\n",
    "    for val in factor_col:\n",
    "        val_split = val.split('|')\n",
    "        for v in val_split:\n",
    "            res.append(v)\n",
    "    return sorted(np.unique(res))   # sort the levels\n",
    "\n",
    "\n",
    "# stores the distinct values of drf\n",
    "drf_distinct_vals = get_factor_levels(df_data_main.drf)\n",
    "\n",
    "\n",
    "def factor_to_dummy(factor_col, level):\n",
    "    col_len = len(factor_col)\n",
    "\n",
    "    data_dict = {\n",
    "        lv: [0] * col_len for lv in level\n",
    "    }\n",
    "    for i in range(col_len):\n",
    "        keys = factor_col[i].split('|')\n",
    "        for key in keys:\n",
    "            data_dict[key][i] = 1\n",
    "    return pd.DataFrame(data_dict)\n",
    "\n",
    "\n",
    "df_drf_dist = factor_to_dummy(df_data_main.drf.values, drf_distinct_vals)\n",
    "df_drf_dist.insert(0, 'is_resident', df_data_main.is_resident)\n",
    "df_drf_dist = df_drf_dist.groupby('is_resident').agg('sum')\n",
    "# get corresponding proportion\n",
    "df_drf_dist.loc[0, :] = df_drf_dist.loc[0, :] / sum(df_drf_dist.loc[0, :])\n",
    "df_drf_dist.loc[1, :] = df_drf_dist.loc[1, :] / sum(df_drf_dist.loc[1, :])\n",
    "df_drf_dist = df_drf_dist.transpose()\n",
    "\n",
    "\n",
    "df_drf_dist.columns = ['non-resident', 'resident']\n",
    "df_drf_dist['diff'] = df_drf_dist['non-resident'] - df_drf_dist['resident']\n",
    "df_drf_dist.sort_values(by='diff', inplace=True, ascending=False)\n",
    "df_drf_dist.drop('diff', inplace=True, axis=1)\n",
    "df_drf_dist.set_index(pd.Series(df_drf_dist.index, name='drf', dtype=int), inplace=True)\n",
    "df_drf_dist[:4]"
   ]
  },
  {
   "cell_type": "code",
   "execution_count": 602,
   "metadata": {},
   "outputs": [
    {
     "data": {
      "text/plain": [
       "<AxesSubplot:xlabel='drf'>"
      ]
     },
     "execution_count": 602,
     "metadata": {},
     "output_type": "execute_result"
    },
    {
     "data": {
      "image/png": "[encoded data removed]",
      "text/plain": [
       "<Figure size 640x480 with 1 Axes>"
      ]
     },
     "metadata": {},
     "output_type": "display_data"
    }
   ],
   "source": [
    "df_drf_dist[:4].plot(kind='bar')"
   ]
  },
  {
   "cell_type": "markdown",
   "metadata": {},
   "source": [
    "- The table above suggests that compared to resident drivers, non-resident drviers are much more likely to encounter accidents that result from the behavioral factor <b>28</b>, that is, <b>improper lane use</b>.\n",
    "\n",
    "- The following blocks focus on the analysis of <b>distraction factors</b>. As the distraction index 0 means not distracted, and index 96 not reported, we merge these two categories into one."
   ]
  },
  {
   "cell_type": "code",
   "execution_count": 603,
   "metadata": {},
   "outputs": [
    {
     "data": {
      "text/plain": [
       "0       3443\n",
       "92       308\n",
       "93       140\n",
       "12        20\n",
       "        ... \n",
       "5|93       1\n",
       "14         1\n",
       "3|6        1\n",
       "97         1\n",
       "Name: distract, Length: 20, dtype: int64"
      ]
     },
     "execution_count": 603,
     "metadata": {},
     "output_type": "execute_result"
    }
   ],
   "source": [
    "df_data_main.loc[:, 'distract1': 'distract6'] = df_data_main.loc[:, 'distract1': 'distract6'].fillna(0)\n",
    "\n",
    "\n",
    "def sum_distract_factors(ind: int, df: pd.DataFrame):\n",
    "    return re.sub(string=\"|\".join(df.loc[ind, 'distract1': 'distract6'].astype(int).astype(str)), pattern=r'\\|0', repl='')\n",
    "\n",
    "\n",
    "df_data_main['distract'] = df_data_main.index.map(\n",
    "    lambda i: re.sub(string=sum_distract_factors(i, df_data_main), repl='0', pattern='96')\n",
    ")\n",
    "\n",
    "df_data_main.drop(axis=1, labels=[\n",
    "                  'distract1', 'distract2', 'distract3', 'distract4', 'distract5', 'distract6'], inplace=True)\n",
    "df_data_main.distract.value_counts(ascending=False)\n"
   ]
  },
  {
   "cell_type": "code",
   "execution_count": 604,
   "metadata": {},
   "outputs": [
    {
     "data": {
      "text/html": [
       "<div>\n",
       "<style scoped>\n",
       "    .dataframe tbody tr th:only-of-type {\n",
       "        vertical-align: middle;\n",
       "    }\n",
       "\n",
       "    .dataframe tbody tr th {\n",
       "        vertical-align: top;\n",
       "    }\n",
       "\n",
       "    .dataframe thead th {\n",
       "        text-align: right;\n",
       "    }\n",
       "</style>\n",
       "<table border=\"1\" class=\"dataframe\">\n",
       "  <thead>\n",
       "    <tr style=\"text-align: right;\">\n",
       "      <th></th>\n",
       "      <th>non-resident</th>\n",
       "      <th>resident</th>\n",
       "    </tr>\n",
       "    <tr>\n",
       "      <th>distract_factor</th>\n",
       "      <th></th>\n",
       "      <th></th>\n",
       "    </tr>\n",
       "  </thead>\n",
       "  <tbody>\n",
       "    <tr>\n",
       "      <th>93</th>\n",
       "      <td>0.038553</td>\n",
       "      <td>0.026652</td>\n",
       "    </tr>\n",
       "    <tr>\n",
       "      <th>1</th>\n",
       "      <td>0.004777</td>\n",
       "      <td>0.002132</td>\n",
       "    </tr>\n",
       "    <tr>\n",
       "      <th>12</th>\n",
       "      <td>0.005800</td>\n",
       "      <td>0.003198</td>\n",
       "    </tr>\n",
       "    <tr>\n",
       "      <th>5</th>\n",
       "      <td>0.001365</td>\n",
       "      <td>0.000000</td>\n",
       "    </tr>\n",
       "    <tr>\n",
       "      <th>13</th>\n",
       "      <td>0.001365</td>\n",
       "      <td>0.000000</td>\n",
       "    </tr>\n",
       "  </tbody>\n",
       "</table>\n",
       "</div>"
      ],
      "text/plain": [
       "                 non-resident  resident\n",
       "distract_factor                        \n",
       "93                   0.038553  0.026652\n",
       "1                    0.004777  0.002132\n",
       "12                   0.005800  0.003198\n",
       "5                    0.001365  0.000000\n",
       "13                   0.001365  0.000000"
      ]
     },
     "execution_count": 604,
     "metadata": {},
     "output_type": "execute_result"
    }
   ],
   "source": [
    "distinct_distract = get_factor_levels(df_data_main.distract)\n",
    "\n",
    "df_distract = factor_to_dummy(df_data_main.distract.values, distinct_distract)\n",
    "df_distract.insert(0, column='is_resident', value=df_data_main.is_resident)\n",
    "df_distract = df_distract.groupby('is_resident').agg('sum')\n",
    "\n",
    "df_distract.loc[0, :] = df_distract.loc[0, :] / sum(df_distract.loc[0, :])\n",
    "df_distract.loc[1, :] = df_distract.loc[1, :] / sum(df_distract.loc[1, :])\n",
    "\n",
    "df_distract = df_distract.transpose()\n",
    "df_distract.columns = ['non-resident', 'resident']\n",
    "df_distract['diff'] = df_distract['non-resident'] - df_distract['resident']\n",
    "df_distract.sort_values(by='diff', inplace=True, ascending=False)\n",
    "df_distract.drop('diff', inplace=True, axis=1)\n",
    "df_distract.set_index(\n",
    "    pd.Series(df_distract.index, name='distract_factor', dtype=int), inplace=True)\n",
    "df_distract[:5]"
   ]
  },
  {
   "cell_type": "markdown",
   "metadata": {},
   "source": [
    "- The analysis of distract factors shows that compared to resident drivers, non-resident drivers in fatal crash event are more likely to be involved with disctract factors 93, 1, 12, 5, and 13, which are <b>inattention, looked but did not see, distracted by outside person, talking or listening to phone, and eating or drinking."
   ]
  },
  {
   "cell_type": "markdown",
   "metadata": {},
   "source": [
    "##### <b>2.4 Are there specific resident ZIP Codes that tend to produce higher-risk drivers that are involved in fatal crashes at a higher rate?</b>"
   ]
  },
  {
   "cell_type": "code",
   "execution_count": 605,
   "metadata": {},
   "outputs": [
    {
     "data": {
      "text/html": [
       "<div>\n",
       "<style scoped>\n",
       "    .dataframe tbody tr th:only-of-type {\n",
       "        vertical-align: middle;\n",
       "    }\n",
       "\n",
       "    .dataframe tbody tr th {\n",
       "        vertical-align: top;\n",
       "    }\n",
       "\n",
       "    .dataframe thead th {\n",
       "        text-align: right;\n",
       "    }\n",
       "</style>\n",
       "<table border=\"1\" class=\"dataframe\">\n",
       "  <thead>\n",
       "    <tr style=\"text-align: right;\">\n",
       "      <th></th>\n",
       "      <th>case_count</th>\n",
       "      <th>case_proportion</th>\n",
       "    </tr>\n",
       "  </thead>\n",
       "  <tbody>\n",
       "    <tr>\n",
       "      <th>count</th>\n",
       "      <td>693.000000</td>\n",
       "      <td>693.000000</td>\n",
       "    </tr>\n",
       "    <tr>\n",
       "      <th>mean</th>\n",
       "      <td>5.766234</td>\n",
       "      <td>0.001443</td>\n",
       "    </tr>\n",
       "    <tr>\n",
       "      <th>std</th>\n",
       "      <td>7.252280</td>\n",
       "      <td>0.001815</td>\n",
       "    </tr>\n",
       "    <tr>\n",
       "      <th>min</th>\n",
       "      <td>1.000000</td>\n",
       "      <td>0.000250</td>\n",
       "    </tr>\n",
       "    <tr>\n",
       "      <th>25%</th>\n",
       "      <td>1.000000</td>\n",
       "      <td>0.000250</td>\n",
       "    </tr>\n",
       "    <tr>\n",
       "      <th>50%</th>\n",
       "      <td>2.000000</td>\n",
       "      <td>0.000501</td>\n",
       "    </tr>\n",
       "    <tr>\n",
       "      <th>75%</th>\n",
       "      <td>8.000000</td>\n",
       "      <td>0.002002</td>\n",
       "    </tr>\n",
       "    <tr>\n",
       "      <th>max</th>\n",
       "      <td>47.000000</td>\n",
       "      <td>0.011762</td>\n",
       "    </tr>\n",
       "  </tbody>\n",
       "</table>\n",
       "</div>"
      ],
      "text/plain": [
       "       case_count  case_proportion\n",
       "count  693.000000       693.000000\n",
       "mean     5.766234         0.001443\n",
       "std      7.252280         0.001815\n",
       "min      1.000000         0.000250\n",
       "25%      1.000000         0.000250\n",
       "50%      2.000000         0.000501\n",
       "75%      8.000000         0.002002\n",
       "max     47.000000         0.011762"
      ]
     },
     "execution_count": 605,
     "metadata": {},
     "output_type": "execute_result"
    }
   ],
   "source": [
    "df_data_by_zip = df_data_main.groupby('dzip').agg(\n",
    "    case_count=pd.NamedAgg(column='par', aggfunc=len),\n",
    "    case_proportion=pd.NamedAgg(\n",
    "        column='par', aggfunc=lambda c: len(c) / len(df_data_main.index))\n",
    ")\n",
    "df_data_by_zip.sort_values(ascending=False, inplace=True, by='case_proportion')\n",
    "\n",
    "df_data_by_zip.describe()"
   ]
  },
  {
   "cell_type": "code",
   "execution_count": 606,
   "metadata": {},
   "outputs": [
    {
     "data": {
      "text/plain": [
       "Index(['99301', '98444', '98387', '98003', '98951', '98837', '98404', '98391',\n",
       "       '98258', '98901', '98223', '98584', '99206', '98022'],\n",
       "      dtype='object', name='dzip')"
      ]
     },
     "execution_count": 606,
     "metadata": {},
     "output_type": "execute_result"
    }
   ],
   "source": [
    "risky_zipcode = df_data_by_zip[df_data_by_zip.case_proportion >=  0.001443 + 3 * 0.001815].index    #  filtering mean + 3 * sigma based on proportion\n",
    "risky_zipcode"
   ]
  },
  {
   "cell_type": "code",
   "execution_count": 607,
   "metadata": {},
   "outputs": [
    {
     "data": {
      "text/plain": [
       "<AxesSubplot:ylabel='case_proportion'>"
      ]
     },
     "execution_count": 607,
     "metadata": {},
     "output_type": "execute_result"
    },
    {
     "data": {
      "image/png": "[encoded data removed]",
      "text/plain": [
       "<Figure size 640x480 with 1 Axes>"
      ]
     },
     "metadata": {},
     "output_type": "display_data"
    }
   ],
   "source": [
    "sns.boxplot(y=df_data_by_zip.case_proportion)"
   ]
  },
  {
   "cell_type": "code",
   "execution_count": 608,
   "metadata": {},
   "outputs": [
    {
     "data": {
      "text/plain": [
       "<AxesSubplot:xlabel='case_count', ylabel='Count'>"
      ]
     },
     "execution_count": 608,
     "metadata": {},
     "output_type": "execute_result"
    },
    {
     "data": {
      "image/png": "[encoded data removed]",
      "text/plain": [
       "<Figure size 640x480 with 1 Axes>"
      ]
     },
     "metadata": {},
     "output_type": "display_data"
    }
   ],
   "source": [
    "sns.histplot(x=df_data_by_zip.case_count)"
   ]
  },
  {
   "cell_type": "markdown",
   "metadata": {},
   "source": [
    "- Both the boxplot and histogram suggest that the distribution of case proportion across zipcodes is similiar to Pareto distribution. This implies that the few areas account for most of the risky drivers. In other words, <b>there are specific zip codes that produce risky drivers at a significantly higher rate</b>.\n",
    "- Some of the high-risk zip codes are: 99301, 98444, 98387, 98003, 98951, 98837, 98404, 98391, 98258, 98901, 98223, 98584, 99206, 98022"
   ]
  },
  {
   "cell_type": "markdown",
   "metadata": {},
   "source": [
    "##### <b>2.5 What are the population demographics of these high-risk driver producing ZIP Codes?</b>"
   ]
  },
  {
   "cell_type": "code",
   "execution_count": 609,
   "metadata": {},
   "outputs": [
    {
     "name": "stdout",
     "output_type": "stream",
     "text": [
      "(467, 302)\n"
     ]
    },
    {
     "data": {
      "text/html": [
       "<div>\n",
       "<style scoped>\n",
       "    .dataframe tbody tr th:only-of-type {\n",
       "        vertical-align: middle;\n",
       "    }\n",
       "\n",
       "    .dataframe tbody tr th {\n",
       "        vertical-align: top;\n",
       "    }\n",
       "\n",
       "    .dataframe thead th {\n",
       "        text-align: right;\n",
       "    }\n",
       "</style>\n",
       "<table border=\"1\" class=\"dataframe\">\n",
       "  <thead>\n",
       "    <tr style=\"text-align: right;\">\n",
       "      <th></th>\n",
       "      <th>year</th>\n",
       "      <th>case</th>\n",
       "      <th>par</th>\n",
       "      <th>repjur</th>\n",
       "      <th>crash_dt</th>\n",
       "      <th>crash_tm</th>\n",
       "      <th>accday</th>\n",
       "      <th>accmon</th>\n",
       "      <th>holiday</th>\n",
       "      <th>county</th>\n",
       "      <th>...</th>\n",
       "      <th>CoMP</th>\n",
       "      <th>IntCoRoadName</th>\n",
       "      <th>IntCoMP</th>\n",
       "      <th>event_zipcode</th>\n",
       "      <th>is_resident</th>\n",
       "      <th>is_driver</th>\n",
       "      <th>crash_category</th>\n",
       "      <th>crashtype_eng</th>\n",
       "      <th>drf</th>\n",
       "      <th>distract</th>\n",
       "    </tr>\n",
       "  </thead>\n",
       "  <tbody>\n",
       "    <tr>\n",
       "      <th>13</th>\n",
       "      <td>2017</td>\n",
       "      <td>10</td>\n",
       "      <td>E632128</td>\n",
       "      <td>8.0</td>\n",
       "      <td>01/08/2017</td>\n",
       "      <td>19:05</td>\n",
       "      <td>8</td>\n",
       "      <td>1</td>\n",
       "      <td>0.0</td>\n",
       "      <td>45</td>\n",
       "      <td>...</td>\n",
       "      <td>NaN</td>\n",
       "      <td>NaN</td>\n",
       "      <td>NaN</td>\n",
       "      <td>98546</td>\n",
       "      <td>False</td>\n",
       "      <td>True</td>\n",
       "      <td>SAME TRAFFICWAY, OPPOSITE DIRECTION</td>\n",
       "      <td>Lateral Move (Left/Right)</td>\n",
       "      <td>28</td>\n",
       "      <td>0</td>\n",
       "    </tr>\n",
       "    <tr>\n",
       "      <th>40</th>\n",
       "      <td>2017</td>\n",
       "      <td>26</td>\n",
       "      <td>E635844</td>\n",
       "      <td>1.0</td>\n",
       "      <td>01/23/2017</td>\n",
       "      <td>17:19</td>\n",
       "      <td>23</td>\n",
       "      <td>1</td>\n",
       "      <td>0.0</td>\n",
       "      <td>21</td>\n",
       "      <td>...</td>\n",
       "      <td>NaN</td>\n",
       "      <td>NaN</td>\n",
       "      <td>NaN</td>\n",
       "      <td>99344</td>\n",
       "      <td>False</td>\n",
       "      <td>False</td>\n",
       "      <td>SAME TRAFFICWAY, OPPOSITE DIRECTION</td>\n",
       "      <td>Lateral Move (Going Straight)</td>\n",
       "      <td>0</td>\n",
       "      <td>0</td>\n",
       "    </tr>\n",
       "    <tr>\n",
       "      <th>41</th>\n",
       "      <td>2017</td>\n",
       "      <td>26</td>\n",
       "      <td>E635844</td>\n",
       "      <td>1.0</td>\n",
       "      <td>01/23/2017</td>\n",
       "      <td>17:19</td>\n",
       "      <td>23</td>\n",
       "      <td>1</td>\n",
       "      <td>0.0</td>\n",
       "      <td>21</td>\n",
       "      <td>...</td>\n",
       "      <td>NaN</td>\n",
       "      <td>NaN</td>\n",
       "      <td>NaN</td>\n",
       "      <td>99344</td>\n",
       "      <td>False</td>\n",
       "      <td>False</td>\n",
       "      <td>MISCELLANEOUS</td>\n",
       "      <td>Other Crash Type</td>\n",
       "      <td>0</td>\n",
       "      <td>0</td>\n",
       "    </tr>\n",
       "    <tr>\n",
       "      <th>51</th>\n",
       "      <td>2017</td>\n",
       "      <td>34</td>\n",
       "      <td>E637343</td>\n",
       "      <td>1.0</td>\n",
       "      <td>01/24/2017</td>\n",
       "      <td>23:20</td>\n",
       "      <td>24</td>\n",
       "      <td>1</td>\n",
       "      <td>0.0</td>\n",
       "      <td>77</td>\n",
       "      <td>...</td>\n",
       "      <td>NaN</td>\n",
       "      <td>NaN</td>\n",
       "      <td>NaN</td>\n",
       "      <td>98951</td>\n",
       "      <td>False</td>\n",
       "      <td>False</td>\n",
       "      <td>SAME TRAFFICWAY, OPPOSITE DIRECTION</td>\n",
       "      <td>Specifics Other</td>\n",
       "      <td>0</td>\n",
       "      <td>0</td>\n",
       "    </tr>\n",
       "    <tr>\n",
       "      <th>59</th>\n",
       "      <td>2017</td>\n",
       "      <td>40</td>\n",
       "      <td>E633587</td>\n",
       "      <td>25.0</td>\n",
       "      <td>01/16/2017</td>\n",
       "      <td>15:51</td>\n",
       "      <td>16</td>\n",
       "      <td>1</td>\n",
       "      <td>0.0</td>\n",
       "      <td>33</td>\n",
       "      <td>...</td>\n",
       "      <td>NaN</td>\n",
       "      <td>NaN</td>\n",
       "      <td>NaN</td>\n",
       "      <td>98022</td>\n",
       "      <td>True</td>\n",
       "      <td>True</td>\n",
       "      <td>SINGLE DRIVER</td>\n",
       "      <td>Drive Off Road</td>\n",
       "      <td>0</td>\n",
       "      <td>0</td>\n",
       "    </tr>\n",
       "  </tbody>\n",
       "</table>\n",
       "<p>5 rows × 302 columns</p>\n",
       "</div>"
      ],
      "text/plain": [
       "    year  case      par  repjur    crash_dt crash_tm  accday  accmon  holiday  \\\n",
       "13  2017    10  E632128     8.0  01/08/2017    19:05       8       1      0.0   \n",
       "40  2017    26  E635844     1.0  01/23/2017    17:19      23       1      0.0   \n",
       "41  2017    26  E635844     1.0  01/23/2017    17:19      23       1      0.0   \n",
       "51  2017    34  E637343     1.0  01/24/2017    23:20      24       1      0.0   \n",
       "59  2017    40  E633587    25.0  01/16/2017    15:51      16       1      0.0   \n",
       "\n",
       "    county  ... CoMP  IntCoRoadName  IntCoMP  event_zipcode  is_resident  \\\n",
       "13      45  ...  NaN            NaN      NaN          98546        False   \n",
       "40      21  ...  NaN            NaN      NaN          99344        False   \n",
       "41      21  ...  NaN            NaN      NaN          99344        False   \n",
       "51      77  ...  NaN            NaN      NaN          98951        False   \n",
       "59      33  ...  NaN            NaN      NaN          98022         True   \n",
       "\n",
       "    is_driver                       crash_category  \\\n",
       "13       True  SAME TRAFFICWAY, OPPOSITE DIRECTION   \n",
       "40      False  SAME TRAFFICWAY, OPPOSITE DIRECTION   \n",
       "41      False                        MISCELLANEOUS   \n",
       "51      False  SAME TRAFFICWAY, OPPOSITE DIRECTION   \n",
       "59       True                        SINGLE DRIVER   \n",
       "\n",
       "                     crashtype_eng  drf  distract  \n",
       "13      Lateral Move (Left/Right)    28         0  \n",
       "40  Lateral Move (Going Straight)     0         0  \n",
       "41               Other Crash Type     0         0  \n",
       "51                Specifics Other     0         0  \n",
       "59                 Drive Off Road     0         0  \n",
       "\n",
       "[5 rows x 302 columns]"
      ]
     },
     "execution_count": 609,
     "metadata": {},
     "output_type": "execute_result"
    }
   ],
   "source": [
    "# filter records related to risky zipcodes\n",
    "df_data_risky_zipcode = df_data_main.loc[\n",
    "    df_data_main.dzip.map(lambda zip: zip in risky_zipcode), :\n",
    "]\n",
    "\n",
    "print(df_data_risky_zipcode.shape)\n",
    "df_data_risky_zipcode.head()"
   ]
  },
  {
   "cell_type": "code",
   "execution_count": 610,
   "metadata": {},
   "outputs": [
    {
     "data": {
      "text/plain": [
       "Text(0.5, 1.0, 'age distribution')"
      ]
     },
     "execution_count": 610,
     "metadata": {},
     "output_type": "execute_result"
    },
    {
     "data": {
      "image/png": "[encoded data removed]",
      "text/plain": [
       "<Figure size 640x480 with 1 Axes>"
      ]
     },
     "metadata": {},
     "output_type": "display_data"
    }
   ],
   "source": [
    "sns.histplot(x=df_data_risky_zipcode.age, binwidth=10).set_title('age distribution')"
   ]
  },
  {
   "cell_type": "code",
   "execution_count": 611,
   "metadata": {},
   "outputs": [
    {
     "data": {
      "text/plain": [
       "count    467.000000\n",
       "mean      41.561028\n",
       "std       17.494758\n",
       "min       15.000000\n",
       "25%       27.000000\n",
       "50%       38.000000\n",
       "75%       54.000000\n",
       "max       89.000000\n",
       "Name: age, dtype: float64"
      ]
     },
     "execution_count": 611,
     "metadata": {},
     "output_type": "execute_result"
    }
   ],
   "source": [
    "df_data_risky_zipcode.age.describe()"
   ]
  },
  {
   "cell_type": "markdown",
   "metadata": {},
   "source": [
    "- As the histogram of age suggests, age distribution of risky drivers is significantly skewed to the right. Drivers under the age of 38 account for 50% of the total crash events."
   ]
  },
  {
   "cell_type": "code",
   "execution_count": 612,
   "metadata": {},
   "outputs": [
    {
     "name": "stderr",
     "output_type": "stream",
     "text": [
      "C:\\Users\\Chaconne\\AppData\\Local\\Temp\\ipykernel_28764\\461128785.py:1: SettingWithCopyWarning: \n",
      "A value is trying to be set on a copy of a slice from a DataFrame.\n",
      "Try using .loc[row_indexer,col_indexer] = value instead\n",
      "\n",
      "See the caveats in the documentation: https://pandas.pydata.org/pandas-docs/stable/user_guide/indexing.html#returning-a-view-versus-a-copy\n",
      "  df_data_risky_zipcode.sex = df_data_risky_zipcode.sex.map(lambda s: 3 if s != 1 and s != 2 else s).map(\n"
     ]
    },
    {
     "data": {
      "text/plain": [
       "<AxesSubplot:title={'center':'sex distribution'}, xlabel='sex'>"
      ]
     },
     "execution_count": 612,
     "metadata": {},
     "output_type": "execute_result"
    },
    {
     "data": {
      "image/png": "[encoded data removed]",
      "text/plain": [
       "<Figure size 640x480 with 1 Axes>"
      ]
     },
     "metadata": {},
     "output_type": "display_data"
    }
   ],
   "source": [
    "df_data_risky_zipcode.sex = df_data_risky_zipcode.sex.map(lambda s: 3 if s != 1 and s != 2 else s).map(\n",
    "    {1: 'male', 2: 'female', 3: 'unknown'}\n",
    ")\n",
    "\n",
    "df_data_risky_zipcode.groupby('sex').agg('count').par.plot(kind='bar', title = 'sex distribution', )"
   ]
  },
  {
   "cell_type": "markdown",
   "metadata": {},
   "source": [
    "- Most of the drivers who come from the high-risk zip code areas are male.\n",
    "- Lastly, we analyze the demographical features of these high-risk instances."
   ]
  },
  {
   "cell_type": "code",
   "execution_count": 613,
   "metadata": {},
   "outputs": [
    {
     "name": "stdout",
     "output_type": "stream",
     "text": [
      "race1    159\n",
      "race2    463\n",
      "race3    467\n",
      "race4    467\n",
      "dtype: int64\n",
      "race1    0\n",
      "race2    0\n",
      "race3    0\n",
      "race4    0\n",
      "dtype: int64\n"
     ]
    },
    {
     "name": "stderr",
     "output_type": "stream",
     "text": [
      "C:\\Users\\Chaconne\\AppData\\Local\\Temp\\ipykernel_28764\\347511375.py:2: SettingWithCopyWarning: \n",
      "A value is trying to be set on a copy of a slice from a DataFrame.\n",
      "Try using .loc[row_indexer,col_indexer] = value instead\n",
      "\n",
      "See the caveats in the documentation: https://pandas.pydata.org/pandas-docs/stable/user_guide/indexing.html#returning-a-view-versus-a-copy\n",
      "  df_data_risky_zipcode.loc[:, 'race1':'race4'] = df_data_risky_zipcode.loc[:, 'race1':'race4'].apply(lambda c: c.fillna(0))\n"
     ]
    }
   ],
   "source": [
    "print(df_data_risky_zipcode.loc[:, 'race1':'race4'].apply(lambda c: sum(c.isna())))\n",
    "df_data_risky_zipcode.loc[:, 'race1':'race4'] = df_data_risky_zipcode.loc[:, 'race1':'race4'].apply(lambda c: c.fillna(0))\n",
    "print(df_data_risky_zipcode.loc[:, 'race1':'race4'].apply(lambda c: sum(c.isna())))"
   ]
  },
  {
   "cell_type": "code",
   "execution_count": 614,
   "metadata": {},
   "outputs": [
    {
     "name": "stderr",
     "output_type": "stream",
     "text": [
      "C:\\Users\\Chaconne\\AppData\\Local\\Temp\\ipykernel_28764\\1370129567.py:23: SettingWithCopyWarning: \n",
      "A value is trying to be set on a copy of a slice from a DataFrame.\n",
      "Try using .loc[row_indexer,col_indexer] = value instead\n",
      "\n",
      "See the caveats in the documentation: https://pandas.pydata.org/pandas-docs/stable/user_guide/indexing.html#returning-a-view-versus-a-copy\n",
      "  df_data_risky_zipcode.loc[:, 'race1':'race4'] = df_data_risky_zipcode.loc[:, 'race1':'race4'].applymap(normalize_race_code)\n",
      "C:\\Users\\Chaconne\\AppData\\Local\\Temp\\ipykernel_28764\\1370129567.py:24: SettingWithCopyWarning: \n",
      "A value is trying to be set on a copy of a slice from a DataFrame.\n",
      "Try using .loc[row_indexer,col_indexer] = value instead\n",
      "\n",
      "See the caveats in the documentation: https://pandas.pydata.org/pandas-docs/stable/user_guide/indexing.html#returning-a-view-versus-a-copy\n",
      "  df_data_risky_zipcode['race'] = df_data_risky_zipcode.index.map(lambda i : sum_race(i, df_data_risky_zipcode))\n"
     ]
    },
    {
     "data": {
      "text/plain": [
       "13          0\n",
       "40          0\n",
       "41          0\n",
       "51      0|300\n",
       "        ...  \n",
       "4098        1\n",
       "4117        0\n",
       "4121        0\n",
       "4124        0\n",
       "Name: race, Length: 467, dtype: object"
      ]
     },
     "execution_count": 614,
     "metadata": {},
     "output_type": "execute_result"
    }
   ],
   "source": [
    "def normalize_race_code(original_code:int) -> int:\n",
    "    if original_code >= 201 and original_code <= 298:\n",
    "        return original_code - 200\n",
    "    else:\n",
    "        return original_code\n",
    "\n",
    "\n",
    "def map_hispanic_code(original_code:int) -> int:\n",
    "    if original_code >= 1 and original_code <= 6:\n",
    "        return 300\n",
    "    else:\n",
    "        return 0\n",
    "\n",
    "\n",
    "def sum_race(index:int, df:pd.DataFrame):\n",
    "    all_race = '|'.join( df.loc[index, 'race1':'race4'].astype(int).astype(str))\n",
    "    hispanic =map_hispanic_code( df.loc[index, 'hispanic'])\n",
    "    race_sum  = all_race + '|' + str(hispanic)\n",
    "    race_sum = re.sub(pattern=r'\\|0', repl= '', string=race_sum)\n",
    "    return race_sum\n",
    "        \n",
    "\n",
    "df_data_risky_zipcode.loc[:, 'race1':'race4'] = df_data_risky_zipcode.loc[:, 'race1':'race4'].applymap(normalize_race_code)\n",
    "df_data_risky_zipcode['race'] = df_data_risky_zipcode.index.map(lambda i : sum_race(i, df_data_risky_zipcode))\n",
    "df_data_risky_zipcode['race']"
   ]
  },
  {
   "cell_type": "code",
   "execution_count": 643,
   "metadata": {},
   "outputs": [
    {
     "data": {
      "text/plain": [
       "<AxesSubplot:title={'center':'race distribution'}>"
      ]
     },
     "execution_count": 643,
     "metadata": {},
     "output_type": "execute_result"
    },
    {
     "data": {
      "image/png": "[encoded data removed]",
      "text/plain": [
       "<Figure size 640x480 with 1 Axes>"
      ]
     },
     "metadata": {},
     "output_type": "display_data"
    }
   ],
   "source": [
    "race_levels = get_factor_levels(df_data_risky_zipcode['race'])\n",
    "df_race_dummy = factor_to_dummy(df_data_risky_zipcode['race'].values, race_levels)\n",
    "\n",
    "map_code_to_race = {\n",
    "    k:v for k,v in zip(df_metadata_race['race_index'].values, df_metadata_race.race.values)\n",
    "}\n",
    "\n",
    "df_race_dummy.columns = df_race_dummy.columns.map(\n",
    "    lambda c_name: map_code_to_race[int(c_name)] if int(c_name) in map_code_to_race.keys() else c_name\n",
    ")\n",
    "\n",
    "df_race_dummy.apply(sum).drop(index = 'Not a Fatality').plot(kind='bar', title = 'race distribution')"
   ]
  },
  {
   "cell_type": "code",
   "execution_count": 644,
   "metadata": {},
   "outputs": [
    {
     "data": {
      "text/plain": [
       "White                                       93\n",
       "300                                         32\n",
       "Other Race                                  15\n",
       "Black                                        6\n",
       "North American Indian or Alaska Native       5\n",
       "Samoan                                       1\n",
       "Vietnamese                                   1\n",
       "Native Hawaiian                              1\n",
       "Filipino                                     1\n",
       "dtype: int64"
      ]
     },
     "execution_count": 644,
     "metadata": {},
     "output_type": "execute_result"
    }
   ],
   "source": [
    "df_race_dummy.apply(sum).drop(index = 'Not a Fatality').sort_values(ascending = False)[:9]"
   ]
  },
  {
   "cell_type": "markdown",
   "metadata": {},
   "source": [
    "##### Output Cleaned Dataset for Visualization"
   ]
  },
  {
   "cell_type": "code",
   "execution_count": null,
   "metadata": {},
   "outputs": [],
   "source": [
    "df_data_main.to_csv(dir + 'output/data_vis.csv')"
   ]
  }
 ],
 "metadata": {
  "kernelspec": {
   "display_name": "Python 3.10.4 64-bit",
   "language": "python",
   "name": "python3"
  },
  "language_info": {
   "codemirror_mode": {
    "name": "ipython",
    "version": 3
   },
   "file_extension": ".py",
   "mimetype": "text/x-python",
   "name": "python",
   "nbconvert_exporter": "python",
   "pygments_lexer": "ipython3",
   "version": "3.10.4"
  },
  "orig_nbformat": 4,
  "vscode": {
   "interpreter": {
    "hash": "26de051ba29f2982a8de78e945f0abaf191376122a1563185a90213a26c5da77"
   }
  }
 },
 "nbformat": 4,
 "nbformat_minor": 2
}
