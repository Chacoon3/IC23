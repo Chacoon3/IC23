{
 "cells": [
  {
   "cell_type": "code",
   "execution_count": 23,
   "metadata": {},
   "outputs": [],
   "source": [
    "import pandas as pd\n",
    "import numpy as np\n",
    "import regex as re\n",
    "\n",
    "import requests\n",
    "import asyncio\n",
    "import json as js\n",
    "\n",
    "import time\n",
    "\n",
    "import os\n",
    "\n",
    "pd.set_option('display.max_rows', 6)"
   ]
  },
  {
   "cell_type": "markdown",
   "metadata": {},
   "source": [
    "#### Notebook Description\n",
    "<br/>\n",
    "Convert driver factor data into analyzable format and yields a CSV as output"
   ]
  },
  {
   "cell_type": "code",
   "execution_count": 24,
   "metadata": {},
   "outputs": [
    {
     "data": {
      "text/html": [
       "<div>\n",
       "<style scoped>\n",
       "    .dataframe tbody tr th:only-of-type {\n",
       "        vertical-align: middle;\n",
       "    }\n",
       "\n",
       "    .dataframe tbody tr th {\n",
       "        vertical-align: top;\n",
       "    }\n",
       "\n",
       "    .dataframe thead th {\n",
       "        text-align: right;\n",
       "    }\n",
       "</style>\n",
       "<table border=\"1\" class=\"dataframe\">\n",
       "  <thead>\n",
       "    <tr style=\"text-align: right;\">\n",
       "      <th></th>\n",
       "      <th>valid_period</th>\n",
       "      <th>content</th>\n",
       "    </tr>\n",
       "  </thead>\n",
       "  <tbody>\n",
       "    <tr>\n",
       "      <th>0</th>\n",
       "      <td>nan</td>\n",
       "      <td>0=No factors identified for this driver</td>\n",
       "    </tr>\n",
       "    <tr>\n",
       "      <th>1</th>\n",
       "      <td>,2009</td>\n",
       "      <td>1=(through 2009) Drowsy, Asleep</td>\n",
       "    </tr>\n",
       "    <tr>\n",
       "      <th>2</th>\n",
       "      <td>,2009</td>\n",
       "      <td>2=(through 2009) Ill, Passed Out, Blacked Out</td>\n",
       "    </tr>\n",
       "    <tr>\n",
       "      <th>3</th>\n",
       "      <td>,2009</td>\n",
       "      <td>3=(through 2009) Emotional (e.g., depressed, a...</td>\n",
       "    </tr>\n",
       "    <tr>\n",
       "      <th>4</th>\n",
       "      <td>nan</td>\n",
       "      <td>4=Reaction to/Failure to take Drugs/Medication</td>\n",
       "    </tr>\n",
       "  </tbody>\n",
       "</table>\n",
       "</div>"
      ],
      "text/plain": [
       "  valid_period                                            content\n",
       "0          nan            0=No factors identified for this driver\n",
       "1        ,2009                    1=(through 2009) Drowsy, Asleep\n",
       "2        ,2009      2=(through 2009) Ill, Passed Out, Blacked Out\n",
       "3        ,2009  3=(through 2009) Emotional (e.g., depressed, a...\n",
       "4          nan    4=Reaction to/Failure to take Drugs/Medication "
      ]
     },
     "execution_count": 24,
     "metadata": {},
     "output_type": "execute_result"
    }
   ],
   "source": [
    "dir = os.path.abspath(os.path.dirname(os.getcwd())) + '/data/output/'\n",
    "\n",
    "df_data = pd.read_csv(dir + 'driver_factors.csv')\n",
    "df_data.valid_period = df_data.valid_period.astype(str)\n",
    "\n",
    "df_data.head()"
   ]
  },
  {
   "cell_type": "code",
   "execution_count": 25,
   "metadata": {},
   "outputs": [
    {
     "data": {
      "text/plain": [
       "nan      78\n",
       ",2009    18\n",
       "2010,    15\n",
       "         ..\n",
       "2002,     1\n",
       "2021,     1\n",
       "2015,     1\n",
       "Name: valid_period, Length: 23, dtype: int64"
      ]
     },
     "execution_count": 25,
     "metadata": {},
     "output_type": "execute_result"
    }
   ],
   "source": [
    "df_data.valid_period.value_counts()"
   ]
  },
  {
   "cell_type": "code",
   "execution_count": 26,
   "metadata": {},
   "outputs": [],
   "source": [
    "def get_factor_period(s: str):\n",
    "    if s == 'nan':\n",
    "        return (float('-inf'), float('inf'))\n",
    "    else:\n",
    "        s_split = s.split(',')\n",
    "        if s_split[0] != '':\n",
    "            left = int(s_split[0])\n",
    "        else:\n",
    "            left = float('-inf')\n",
    "        if len(s_split) > 1 and  s_split[1] != '':\n",
    "            right = int(s_split[1])\n",
    "        else:\n",
    "            right = float('inf')\n",
    "        \n",
    "        return (str(left), str(right))"
   ]
  },
  {
   "cell_type": "code",
   "execution_count": 27,
   "metadata": {},
   "outputs": [
    {
     "data": {
      "text/html": [
       "<div>\n",
       "<style scoped>\n",
       "    .dataframe tbody tr th:only-of-type {\n",
       "        vertical-align: middle;\n",
       "    }\n",
       "\n",
       "    .dataframe tbody tr th {\n",
       "        vertical-align: top;\n",
       "    }\n",
       "\n",
       "    .dataframe thead th {\n",
       "        text-align: right;\n",
       "    }\n",
       "</style>\n",
       "<table border=\"1\" class=\"dataframe\">\n",
       "  <thead>\n",
       "    <tr style=\"text-align: right;\">\n",
       "      <th></th>\n",
       "      <th>valid_period</th>\n",
       "      <th>content</th>\n",
       "      <th>valid_period_start</th>\n",
       "      <th>valid_period_end</th>\n",
       "    </tr>\n",
       "  </thead>\n",
       "  <tbody>\n",
       "    <tr>\n",
       "      <th>0</th>\n",
       "      <td>nan</td>\n",
       "      <td>0=No factors identified for this driver</td>\n",
       "      <td>-inf</td>\n",
       "      <td>inf</td>\n",
       "    </tr>\n",
       "    <tr>\n",
       "      <th>1</th>\n",
       "      <td>,2009</td>\n",
       "      <td>1=(through 2009) Drowsy, Asleep</td>\n",
       "      <td>-inf</td>\n",
       "      <td>2009</td>\n",
       "    </tr>\n",
       "    <tr>\n",
       "      <th>2</th>\n",
       "      <td>,2009</td>\n",
       "      <td>2=(through 2009) Ill, Passed Out, Blacked Out</td>\n",
       "      <td>-inf</td>\n",
       "      <td>2009</td>\n",
       "    </tr>\n",
       "    <tr>\n",
       "      <th>3</th>\n",
       "      <td>,2009</td>\n",
       "      <td>3=(through 2009) Emotional (e.g., depressed, a...</td>\n",
       "      <td>-inf</td>\n",
       "      <td>2009</td>\n",
       "    </tr>\n",
       "    <tr>\n",
       "      <th>4</th>\n",
       "      <td>nan</td>\n",
       "      <td>4=Reaction to/Failure to take Drugs/Medication</td>\n",
       "      <td>-inf</td>\n",
       "      <td>inf</td>\n",
       "    </tr>\n",
       "  </tbody>\n",
       "</table>\n",
       "</div>"
      ],
      "text/plain": [
       "  valid_period                                            content  \\\n",
       "0          nan            0=No factors identified for this driver   \n",
       "1        ,2009                    1=(through 2009) Drowsy, Asleep   \n",
       "2        ,2009      2=(through 2009) Ill, Passed Out, Blacked Out   \n",
       "3        ,2009  3=(through 2009) Emotional (e.g., depressed, a...   \n",
       "4          nan    4=Reaction to/Failure to take Drugs/Medication    \n",
       "\n",
       "  valid_period_start valid_period_end  \n",
       "0               -inf              inf  \n",
       "1               -inf             2009  \n",
       "2               -inf             2009  \n",
       "3               -inf             2009  \n",
       "4               -inf              inf  "
      ]
     },
     "execution_count": 27,
     "metadata": {},
     "output_type": "execute_result"
    }
   ],
   "source": [
    "df_data['valid_period_start'] = df_data.valid_period.map(\n",
    "    lambda v : get_factor_period(v)[0]\n",
    ")\n",
    "df_data['valid_period_end'] = df_data.valid_period.map(\n",
    "    lambda v : get_factor_period(v)[1]\n",
    ")\n",
    "df_data.head()\n",
    "#df_data.valid_period.dtype"
   ]
  },
  {
   "cell_type": "code",
   "execution_count": 32,
   "metadata": {},
   "outputs": [],
   "source": [
    "parenthesis_pat1 = r'\\(through ([0-9]{4})\\)'\n",
    "parenthesis_pat2 = r'\\(since ([0-9]{4})\\)'\n",
    "def clear_parentheses(s:str):\n",
    "    match1 = re.search(pattern=parenthesis_pat1, string=s)\n",
    "    if  match1:\n",
    "        s = re.sub(pattern=parenthesis_pat1, repl='', string=s)\n",
    "    match2 = re.search(pattern=parenthesis_pat2, string=s)\n",
    "    if match2:\n",
    "        s = re.sub(pattern=parenthesis_pat2, repl='', string=s)\n",
    "    return s"
   ]
  },
  {
   "cell_type": "code",
   "execution_count": 33,
   "metadata": {},
   "outputs": [
    {
     "data": {
      "text/html": [
       "<div>\n",
       "<style scoped>\n",
       "    .dataframe tbody tr th:only-of-type {\n",
       "        vertical-align: middle;\n",
       "    }\n",
       "\n",
       "    .dataframe tbody tr th {\n",
       "        vertical-align: top;\n",
       "    }\n",
       "\n",
       "    .dataframe thead th {\n",
       "        text-align: right;\n",
       "    }\n",
       "</style>\n",
       "<table border=\"1\" class=\"dataframe\">\n",
       "  <thead>\n",
       "    <tr style=\"text-align: right;\">\n",
       "      <th></th>\n",
       "      <th>valid_period</th>\n",
       "      <th>content</th>\n",
       "      <th>valid_period_start</th>\n",
       "      <th>valid_period_end</th>\n",
       "    </tr>\n",
       "  </thead>\n",
       "  <tbody>\n",
       "    <tr>\n",
       "      <th>0</th>\n",
       "      <td>nan</td>\n",
       "      <td>0=No factors identified for this driver</td>\n",
       "      <td>-inf</td>\n",
       "      <td>inf</td>\n",
       "    </tr>\n",
       "    <tr>\n",
       "      <th>1</th>\n",
       "      <td>,2009</td>\n",
       "      <td>1= Drowsy, Asleep</td>\n",
       "      <td>-inf</td>\n",
       "      <td>2009</td>\n",
       "    </tr>\n",
       "    <tr>\n",
       "      <th>2</th>\n",
       "      <td>,2009</td>\n",
       "      <td>2= Ill, Passed Out, Blacked Out</td>\n",
       "      <td>-inf</td>\n",
       "      <td>2009</td>\n",
       "    </tr>\n",
       "    <tr>\n",
       "      <th>3</th>\n",
       "      <td>,2009</td>\n",
       "      <td>3= Emotional (e.g., depressed, angry,disturbed)</td>\n",
       "      <td>-inf</td>\n",
       "      <td>2009</td>\n",
       "    </tr>\n",
       "    <tr>\n",
       "      <th>4</th>\n",
       "      <td>nan</td>\n",
       "      <td>4=Reaction to/Failure to take Drugs/Medication</td>\n",
       "      <td>-inf</td>\n",
       "      <td>inf</td>\n",
       "    </tr>\n",
       "  </tbody>\n",
       "</table>\n",
       "</div>"
      ],
      "text/plain": [
       "  valid_period                                          content  \\\n",
       "0          nan          0=No factors identified for this driver   \n",
       "1        ,2009                                1= Drowsy, Asleep   \n",
       "2        ,2009                  2= Ill, Passed Out, Blacked Out   \n",
       "3        ,2009  3= Emotional (e.g., depressed, angry,disturbed)   \n",
       "4          nan  4=Reaction to/Failure to take Drugs/Medication    \n",
       "\n",
       "  valid_period_start valid_period_end  \n",
       "0               -inf              inf  \n",
       "1               -inf             2009  \n",
       "2               -inf             2009  \n",
       "3               -inf             2009  \n",
       "4               -inf              inf  "
      ]
     },
     "execution_count": 33,
     "metadata": {},
     "output_type": "execute_result"
    }
   ],
   "source": [
    "df_data.content = df_data.content.map(clear_parentheses)\n",
    "df_data.head()"
   ]
  },
  {
   "cell_type": "code",
   "execution_count": 37,
   "metadata": {},
   "outputs": [
    {
     "data": {
      "text/plain": [
       "128                                         Bicycle Lane\n",
       "120      Non-Intersection, On Road, Not in Marked Cro...\n",
       "118                 Non-Intersection,In Marked Crosswalk\n",
       "                             ...                        \n",
       "117                 9=At Intersection, Unknown Location \n",
       "10                        Aggressive Driving Road Rage  \n",
       "95                  Possible Distraction Inside Vehicle \n",
       "Name: content, Length: 141, dtype: object"
      ]
     },
     "execution_count": 37,
     "metadata": {},
     "output_type": "execute_result"
    }
   ],
   "source": [
    "df_data.content.sort_values()"
   ]
  }
 ],
 "metadata": {
  "kernelspec": {
   "display_name": "Python 3.10.4 64-bit",
   "language": "python",
   "name": "python3"
  },
  "language_info": {
   "codemirror_mode": {
    "name": "ipython",
    "version": 3
   },
   "file_extension": ".py",
   "mimetype": "text/x-python",
   "name": "python",
   "nbconvert_exporter": "python",
   "pygments_lexer": "ipython3",
   "version": "3.10.4"
  },
  "orig_nbformat": 4,
  "vscode": {
   "interpreter": {
    "hash": "26de051ba29f2982a8de78e945f0abaf191376122a1563185a90213a26c5da77"
   }
  }
 },
 "nbformat": 4,
 "nbformat_minor": 2
}
